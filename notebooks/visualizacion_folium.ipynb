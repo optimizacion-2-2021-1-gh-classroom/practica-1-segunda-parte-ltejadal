{
 "cells": [
  {
   "cell_type": "markdown",
   "id": "shaped-biography",
   "metadata": {},
   "source": [
    "\n",
    "# Visualizacion: Folium\n",
    "\n",
    "El objetivo de este _notebook_ es utilizar [`folium`](http://python-visualization.github.io/folium/) para mostrar la visualización de la solución de la implementación de `ACO_TSP` para bases de datos que incluyen coordenadas. "
   ]
  },
  {
   "cell_type": "code",
   "execution_count": 50,
   "id": "gorgeous-contamination",
   "metadata": {},
   "outputs": [],
   "source": [
    "# instalar libreria\n",
    "#!pip install \"git+https://github.com/C1587S/ACO-TSP#egg=ant-colony&subdirectory=src\" &> /dev/null"
   ]
  },
  {
   "cell_type": "code",
   "execution_count": 1,
   "id": "deadly-england",
   "metadata": {},
   "outputs": [],
   "source": [
    "import ant_colony as ac\n",
    "import time"
   ]
  },
  {
   "cell_type": "code",
   "execution_count": 2,
   "id": "collectible-boulder",
   "metadata": {},
   "outputs": [
    {
     "name": "stdout",
     "output_type": "stream",
     "text": [
      "Problem with 71009 cities. Selected 50.\n",
      "Problem with 71009 cities. Selected 50.\n"
     ]
    }
   ],
   "source": [
    "path_china = '../datasets/ch71009.tsp'\n",
    "n_ants = 1000\n",
    "n_cities = 50\n",
    "coord_df = ac.read_coord_data(path_china, n_cities=n_cities, seed=1999, coord_df=True)\n",
    "G = ac.read_coord_data(path_china, n_cities=n_cities, seed=1999, coord_df=False)"
   ]
  },
  {
   "cell_type": "markdown",
   "id": "pleased-spice",
   "metadata": {},
   "source": [
    "## Implementación con clase `colony_multiw`"
   ]
  },
  {
   "cell_type": "markdown",
   "id": "alleged-share",
   "metadata": {},
   "source": [
    "Inicialmente instanciamos la nueva clase, y para este ejemplo se utilizaŕa la totalidad de CPU disponibles en la máquina, 12, y 1000 hormigas."
   ]
  },
  {
   "cell_type": "code",
   "execution_count": 30,
   "id": "social-professor",
   "metadata": {},
   "outputs": [],
   "source": [
    "colony_mw = ac.colony_multiw(G, init_node=0,  n_ants= 1000, max_iter=30000,n_workers=12, \n",
    "                            rho=0.5, alpha=1, beta=5, verbose=True, k_verbose=1000)"
   ]
  },
  {
   "cell_type": "code",
   "execution_count": 31,
   "id": "endangered-department",
   "metadata": {},
   "outputs": [
    {
     "name": "stdout",
     "output_type": "stream",
     "text": [
      "iter: 0 / 30000 - dist: 394.02\n",
      "iter: 1000 / 30000 - dist: 392.76\n",
      "iter: 2000 / 30000 - dist: 392.76\n",
      "iter: 3000 / 30000 - dist: 392.76\n",
      "iter: 4000 / 30000 - dist: 392.76\n",
      "iter: 5000 / 30000 - dist: 392.76\n",
      "iter: 6000 / 30000 - dist: 392.76\n",
      "iter: 7000 / 30000 - dist: 392.76\n",
      "iter: 8000 / 30000 - dist: 392.76\n",
      "iter: 9000 / 30000 - dist: 390.4\n",
      "iter: 10000 / 30000 - dist: 390.4\n",
      "iter: 11000 / 30000 - dist: 390.4\n",
      "iter: 12000 / 30000 - dist: 390.4\n",
      "iter: 13000 / 30000 - dist: 389.34\n",
      "iter: 14000 / 30000 - dist: 389.34\n",
      "iter: 15000 / 30000 - dist: 379.55\n",
      "iter: 16000 / 30000 - dist: 379.55\n",
      "iter: 17000 / 30000 - dist: 379.55\n",
      "iter: 18000 / 30000 - dist: 379.55\n",
      "iter: 19000 / 30000 - dist: 379.55\n",
      "iter: 20000 / 30000 - dist: 379.55\n",
      "iter: 21000 / 30000 - dist: 379.55\n",
      "iter: 22000 / 30000 - dist: 379.55\n",
      "iter: 23000 / 30000 - dist: 379.55\n",
      "iter: 24000 / 30000 - dist: 379.55\n",
      "iter: 25000 / 30000 - dist: 379.55\n",
      "iter: 26000 / 30000 - dist: 379.55\n",
      "iter: 27000 / 30000 - dist: 379.55\n",
      "iter: 28000 / 30000 - dist: 379.55\n",
      "iter: 29000 / 30000 - dist: 379.55\n",
      "\n",
      "\n",
      "------------------------------\n",
      "Resumen:\n",
      "\tNro. de hormigas: 1000\n",
      "\tIteraciones: 30000\n",
      "\tDistancia: 379.54563044585495\n",
      "\tNodo inicial: 0\n",
      "\tRuta: [0, 46, 38, 27, 10, 14, 12, 23, 49, 47, 43, 2, 34, 48, 36, 42, 22, 33, 45, 32, 30, 39, 35, 17, 15, 20, 21, 41, 37, 44, 11, 31, 29, 19, 24, 25, 3, 28, 18, 26, 13, 8, 40, 4, 7, 16, 5, 9, 1, 6, 0]\n",
      "------------------------------\n"
     ]
    }
   ],
   "source": [
    "start_time = time.time()\n",
    "colony_mw.solve_tsp()\n",
    "end_time = time.time()"
   ]
  },
  {
   "cell_type": "code",
   "execution_count": 33,
   "id": "shared-picture",
   "metadata": {},
   "outputs": [
    {
     "name": "stdout",
     "output_type": "stream",
     "text": [
      "La solucion con pool de workers tomó 23005.649101018906 segundos.\n",
      "Distancia 379.54563044585495 kms.\n"
     ]
    }
   ],
   "source": [
    "secs = end_time-start_time\n",
    "print(\"La solucion con pool de workers tomó\", secs, \"segundos.\" )\n",
    "print(f\"Distancia {colony_mw.best_dist} kms.\")"
   ]
  },
  {
   "cell_type": "markdown",
   "id": "crucial-keeping",
   "metadata": {},
   "source": [
    "## Graficar mapa con nodos"
   ]
  },
  {
   "cell_type": "code",
   "execution_count": null,
   "id": "medical-joint",
   "metadata": {},
   "outputs": [],
   "source": [
    "map_route = ac.plot_rout_map(coord_df, colony_mw.best_route, path_type='ants')\n",
    "map_route"
   ]
  },
  {
   "cell_type": "markdown",
   "id": "killing-brunei",
   "metadata": {},
   "source": [
    "## Graficar mapa sin nodos"
   ]
  },
  {
   "cell_type": "code",
   "execution_count": 20,
   "id": "placed-surveillance",
   "metadata": {
    "scrolled": true
   },
   "outputs": [
    {
     "data": {
      "text/html": [
       "<div style=\"width:100%;\"><div style=\"position:relative;width:100%;height:0;padding-bottom:60%;\"><span style=\"color:#565656\">Make this Notebook Trusted to load map: File -> Trust Notebook</span><iframe src=\"about:blank\" style=\"position:absolute;width:100%;height:100%;left:0;top:0;border:none !important;\" data-html=%3C%21DOCTYPE%20html%3E%0A%3Chead%3E%20%20%20%20%0A%20%20%20%20%3Cmeta%20http-equiv%3D%22content-type%22%20content%3D%22text/html%3B%20charset%3DUTF-8%22%20/%3E%0A%20%20%20%20%0A%20%20%20%20%20%20%20%20%3Cscript%3E%0A%20%20%20%20%20%20%20%20%20%20%20%20L_NO_TOUCH%20%3D%20false%3B%0A%20%20%20%20%20%20%20%20%20%20%20%20L_DISABLE_3D%20%3D%20false%3B%0A%20%20%20%20%20%20%20%20%3C/script%3E%0A%20%20%20%20%0A%20%20%20%20%3Cstyle%3Ehtml%2C%20body%20%7Bwidth%3A%20100%25%3Bheight%3A%20100%25%3Bmargin%3A%200%3Bpadding%3A%200%3B%7D%3C/style%3E%0A%20%20%20%20%3Cstyle%3E%23map%20%7Bposition%3Aabsolute%3Btop%3A0%3Bbottom%3A0%3Bright%3A0%3Bleft%3A0%3B%7D%3C/style%3E%0A%20%20%20%20%3Cscript%20src%3D%22https%3A//cdn.jsdelivr.net/npm/leaflet%401.6.0/dist/leaflet.js%22%3E%3C/script%3E%0A%20%20%20%20%3Cscript%20src%3D%22https%3A//code.jquery.com/jquery-1.12.4.min.js%22%3E%3C/script%3E%0A%20%20%20%20%3Cscript%20src%3D%22https%3A//maxcdn.bootstrapcdn.com/bootstrap/3.2.0/js/bootstrap.min.js%22%3E%3C/script%3E%0A%20%20%20%20%3Cscript%20src%3D%22https%3A//cdnjs.cloudflare.com/ajax/libs/Leaflet.awesome-markers/2.0.2/leaflet.awesome-markers.js%22%3E%3C/script%3E%0A%20%20%20%20%3Clink%20rel%3D%22stylesheet%22%20href%3D%22https%3A//cdn.jsdelivr.net/npm/leaflet%401.6.0/dist/leaflet.css%22/%3E%0A%20%20%20%20%3Clink%20rel%3D%22stylesheet%22%20href%3D%22https%3A//maxcdn.bootstrapcdn.com/bootstrap/3.2.0/css/bootstrap.min.css%22/%3E%0A%20%20%20%20%3Clink%20rel%3D%22stylesheet%22%20href%3D%22https%3A//maxcdn.bootstrapcdn.com/bootstrap/3.2.0/css/bootstrap-theme.min.css%22/%3E%0A%20%20%20%20%3Clink%20rel%3D%22stylesheet%22%20href%3D%22https%3A//maxcdn.bootstrapcdn.com/font-awesome/4.6.3/css/font-awesome.min.css%22/%3E%0A%20%20%20%20%3Clink%20rel%3D%22stylesheet%22%20href%3D%22https%3A//cdnjs.cloudflare.com/ajax/libs/Leaflet.awesome-markers/2.0.2/leaflet.awesome-markers.css%22/%3E%0A%20%20%20%20%3Clink%20rel%3D%22stylesheet%22%20href%3D%22https%3A//cdn.jsdelivr.net/gh/python-visualization/folium/folium/templates/leaflet.awesome.rotate.min.css%22/%3E%0A%20%20%20%20%0A%20%20%20%20%20%20%20%20%20%20%20%20%3Cmeta%20name%3D%22viewport%22%20content%3D%22width%3Ddevice-width%2C%0A%20%20%20%20%20%20%20%20%20%20%20%20%20%20%20%20initial-scale%3D1.0%2C%20maximum-scale%3D1.0%2C%20user-scalable%3Dno%22%20/%3E%0A%20%20%20%20%20%20%20%20%20%20%20%20%3Cstyle%3E%0A%20%20%20%20%20%20%20%20%20%20%20%20%20%20%20%20%23map_849eda03dd2c411a94076053a7891830%20%7B%0A%20%20%20%20%20%20%20%20%20%20%20%20%20%20%20%20%20%20%20%20position%3A%20relative%3B%0A%20%20%20%20%20%20%20%20%20%20%20%20%20%20%20%20%20%20%20%20width%3A%20100.0%25%3B%0A%20%20%20%20%20%20%20%20%20%20%20%20%20%20%20%20%20%20%20%20height%3A%20100.0%25%3B%0A%20%20%20%20%20%20%20%20%20%20%20%20%20%20%20%20%20%20%20%20left%3A%200.0%25%3B%0A%20%20%20%20%20%20%20%20%20%20%20%20%20%20%20%20%20%20%20%20top%3A%200.0%25%3B%0A%20%20%20%20%20%20%20%20%20%20%20%20%20%20%20%20%7D%0A%20%20%20%20%20%20%20%20%20%20%20%20%3C/style%3E%0A%20%20%20%20%20%20%20%20%0A%20%20%20%20%3Cscript%20src%3D%22https%3A//cdn.jsdelivr.net/npm/leaflet-ant-path%401.1.2/dist/leaflet-ant-path.min.js%22%3E%3C/script%3E%0A%3C/head%3E%0A%3Cbody%3E%20%20%20%20%0A%20%20%20%20%0A%20%20%20%20%20%20%20%20%20%20%20%20%3Cdiv%20class%3D%22folium-map%22%20id%3D%22map_849eda03dd2c411a94076053a7891830%22%20%3E%3C/div%3E%0A%20%20%20%20%20%20%20%20%0A%3C/body%3E%0A%3Cscript%3E%20%20%20%20%0A%20%20%20%20%0A%20%20%20%20%20%20%20%20%20%20%20%20var%20map_849eda03dd2c411a94076053a7891830%20%3D%20L.map%28%0A%20%20%20%20%20%20%20%20%20%20%20%20%20%20%20%20%22map_849eda03dd2c411a94076053a7891830%22%2C%0A%20%20%20%20%20%20%20%20%20%20%20%20%20%20%20%20%7B%0A%20%20%20%20%20%20%20%20%20%20%20%20%20%20%20%20%20%20%20%20center%3A%20%5B32.91079520784314%2C%20115.11934096078433%5D%2C%0A%20%20%20%20%20%20%20%20%20%20%20%20%20%20%20%20%20%20%20%20crs%3A%20L.CRS.EPSG3857%2C%0A%20%20%20%20%20%20%20%20%20%20%20%20%20%20%20%20%20%20%20%20zoom%3A%203%2C%0A%20%20%20%20%20%20%20%20%20%20%20%20%20%20%20%20%20%20%20%20zoomControl%3A%20true%2C%0A%20%20%20%20%20%20%20%20%20%20%20%20%20%20%20%20%20%20%20%20preferCanvas%3A%20false%2C%0A%20%20%20%20%20%20%20%20%20%20%20%20%20%20%20%20%7D%0A%20%20%20%20%20%20%20%20%20%20%20%20%29%3B%0A%0A%20%20%20%20%20%20%20%20%20%20%20%20%0A%0A%20%20%20%20%20%20%20%20%0A%20%20%20%20%0A%20%20%20%20%20%20%20%20%20%20%20%20var%20tile_layer_b6c50f23ccaa4c25b69dfeea8985adf2%20%3D%20L.tileLayer%28%0A%20%20%20%20%20%20%20%20%20%20%20%20%20%20%20%20%22https%3A//%7Bs%7D.tile.openstreetmap.org/%7Bz%7D/%7Bx%7D/%7By%7D.png%22%2C%0A%20%20%20%20%20%20%20%20%20%20%20%20%20%20%20%20%7B%22attribution%22%3A%20%22Data%20by%20%5Cu0026copy%3B%20%5Cu003ca%20href%3D%5C%22http%3A//openstreetmap.org%5C%22%5Cu003eOpenStreetMap%5Cu003c/a%5Cu003e%2C%20under%20%5Cu003ca%20href%3D%5C%22http%3A//www.openstreetmap.org/copyright%5C%22%5Cu003eODbL%5Cu003c/a%5Cu003e.%22%2C%20%22detectRetina%22%3A%20false%2C%20%22maxNativeZoom%22%3A%2018%2C%20%22maxZoom%22%3A%2018%2C%20%22minZoom%22%3A%200%2C%20%22noWrap%22%3A%20false%2C%20%22opacity%22%3A%201%2C%20%22subdomains%22%3A%20%22abc%22%2C%20%22tms%22%3A%20false%7D%0A%20%20%20%20%20%20%20%20%20%20%20%20%29.addTo%28map_849eda03dd2c411a94076053a7891830%29%3B%0A%20%20%20%20%20%20%20%20%0A%20%20%20%20%0A%20%20%20%20%20%20%20%20%20%20%20%20ant_path_97fd3031b8494017810b3a8b698fe882%20%3D%20L.polyline.antPath%28%0A%20%20%20%20%20%20%20%20%20%20%20%20%20%20%5B%5B27.9088889%2C%20107.0844444%5D%2C%20%5B27.5786111%2C%20106.69666670000001%5D%2C%20%5B22.3322222%2C%20111.41972220000001%5D%2C%20%5B31.2566667%2C%20113.855%5D%2C%20%5B39.216666700000005%2C%20110.1166667%5D%2C%20%5B39.296111100000005%2C%20122.09555560000001%5D%2C%20%5B39.27%2C%20121.6322222%5D%2C%20%5B30.6%2C%20112.8833333%5D%2C%20%5B29.376388900000002%2C%20117.2466667%5D%2C%20%5B46.5%2C%20127.15%5D%2C%20%5B41.6972222%2C%20119.5633333%5D%2C%20%5B30.066666700000003%2C%20114.1166667%5D%2C%20%5B30.291944400000002%2C%20118.5425%5D%2C%20%5B32.271666700000004%2C%20118.76361109999999%5D%2C%20%5B31.445833299999997%2C%20120.2383333%5D%2C%20%5B30.775%2C%20118.025%5D%2C%20%5B25.2386111%2C%20116.63083329999999%5D%2C%20%5B22.8794444%2C%20107.2836111%5D%2C%20%5B23.6727778%2C%20112.6802778%5D%2C%20%5B23.4%2C%20113.0%5D%2C%20%5B40.7155556%2C%20115.8741667%5D%2C%20%5B31.741666700000003%2C%20116.375%5D%2C%20%5B29.05%2C%20113.1166667%5D%2C%20%5B37.6141667%2C%20112.72138890000001%5D%2C%20%5B37.752777800000004%2C%20115.9625%5D%2C%20%5B41.578888899999995%2C%20120.85611109999999%5D%2C%20%5B29.5333333%2C%20114.15%5D%2C%20%5B28.2444444%2C%20121.1138889%5D%2C%20%5B26.8677778%2C%20116.6152778%5D%2C%20%5B35.375277800000006%2C%20110.40444439999999%5D%2C%20%5B39.1972222%2C%20111.6475%5D%2C%20%5B41.4%2C%20115.5166667%5D%2C%20%5B30.6111111%2C%20116.8916667%5D%2C%20%5B30.1644444%2C%20119.1138889%5D%2C%20%5B38.9333333%2C%20116.91666670000001%5D%2C%20%5B36.2852778%2C%20110.1380556%5D%2C%20%5B34.8216667%2C%20107.1461111%5D%2C%20%5B25.5927778%2C%20117.89277779999999%5D%2C%20%5B30.366666700000003%2C%20113.4833333%5D%2C%20%5B30.413888900000003%2C%20117.2277778%5D%2C%20%5B18.8472222%2C%20109.5841667%5D%2C%20%5B28.7994444%2C%20118.9697222%5D%2C%20%5B34.25%2C%20119.75%5D%2C%20%5B32.7647222%2C%20118.5277778%5D%2C%20%5B28.3769444%2C%20118.7847222%5D%2C%20%5B43.4605556%2C%2083.2119444%5D%2C%20%5B40.5%2C%20116.4%5D%2C%20%5B34.6077778%2C%20112.46861109999999%5D%2C%20%5B44.1333333%2C%20125.9%5D%2C%20%5B43.466666700000005%2C%20128.2166667%5D%2C%20%5B27.9088889%2C%20107.0844444%5D%5D%2C%0A%20%20%20%20%20%20%20%20%20%20%20%20%20%20%7B%22bubblingMouseEvents%22%3A%20true%2C%20%22color%22%3A%20%22%230000FF%22%2C%20%22dashArray%22%3A%20%5B10%2C%2020%5D%2C%20%22dashOffset%22%3A%20null%2C%20%22delay%22%3A%20400%2C%20%22fill%22%3A%20false%2C%20%22fillColor%22%3A%20%22%233388ff%22%2C%20%22fillOpacity%22%3A%200.2%2C%20%22fillRule%22%3A%20%22evenodd%22%2C%20%22hardwareAcceleration%22%3A%20false%2C%20%22lineCap%22%3A%20%22round%22%2C%20%22lineJoin%22%3A%20%22round%22%2C%20%22noClip%22%3A%20false%2C%20%22opacity%22%3A%200.5%2C%20%22paused%22%3A%20false%2C%20%22pulseColor%22%3A%20%22%23FFFFFF%22%2C%20%22reverse%22%3A%20false%2C%20%22smoothFactor%22%3A%201.0%2C%20%22stroke%22%3A%20true%2C%20%22weight%22%3A%205%7D%0A%20%20%20%20%20%20%20%20%29.addTo%28map_849eda03dd2c411a94076053a7891830%29%3B%0A%20%20%20%20%20%20%20%20%0A%3C/script%3E onload=\"this.contentDocument.open();this.contentDocument.write(    decodeURIComponent(this.getAttribute('data-html')));this.contentDocument.close();\" allowfullscreen webkitallowfullscreen mozallowfullscreen></iframe></div></div>"
      ],
      "text/plain": [
       "<folium.folium.Map at 0x7f83a06bc050>"
      ]
     },
     "execution_count": 20,
     "metadata": {},
     "output_type": "execute_result"
    }
   ],
   "source": [
    "map_route = ac.plot_rout_map(coord_df, colony_mw.best_route, path_type='ants', nodes=False)\n",
    "map_route"
   ]
  },
  {
   "cell_type": "markdown",
   "id": "popular-class",
   "metadata": {},
   "source": [
    "## Compación con pants"
   ]
  },
  {
   "cell_type": "code",
   "execution_count": 25,
   "id": "twenty-substitute",
   "metadata": {},
   "outputs": [
    {
     "name": "stdout",
     "output_type": "stream",
     "text": [
      "192.97115962309329\n"
     ]
    },
    {
     "data": {
      "text/html": [
       "<div style=\"width:100%;\"><div style=\"position:relative;width:100%;height:0;padding-bottom:60%;\"><span style=\"color:#565656\">Make this Notebook Trusted to load map: File -> Trust Notebook</span><iframe src=\"about:blank\" style=\"position:absolute;width:100%;height:100%;left:0;top:0;border:none !important;\" data-html=%3C%21DOCTYPE%20html%3E%0A%3Chead%3E%20%20%20%20%0A%20%20%20%20%3Cmeta%20http-equiv%3D%22content-type%22%20content%3D%22text/html%3B%20charset%3DUTF-8%22%20/%3E%0A%20%20%20%20%0A%20%20%20%20%20%20%20%20%3Cscript%3E%0A%20%20%20%20%20%20%20%20%20%20%20%20L_NO_TOUCH%20%3D%20false%3B%0A%20%20%20%20%20%20%20%20%20%20%20%20L_DISABLE_3D%20%3D%20false%3B%0A%20%20%20%20%20%20%20%20%3C/script%3E%0A%20%20%20%20%0A%20%20%20%20%3Cstyle%3Ehtml%2C%20body%20%7Bwidth%3A%20100%25%3Bheight%3A%20100%25%3Bmargin%3A%200%3Bpadding%3A%200%3B%7D%3C/style%3E%0A%20%20%20%20%3Cstyle%3E%23map%20%7Bposition%3Aabsolute%3Btop%3A0%3Bbottom%3A0%3Bright%3A0%3Bleft%3A0%3B%7D%3C/style%3E%0A%20%20%20%20%3Cscript%20src%3D%22https%3A//cdn.jsdelivr.net/npm/leaflet%401.6.0/dist/leaflet.js%22%3E%3C/script%3E%0A%20%20%20%20%3Cscript%20src%3D%22https%3A//code.jquery.com/jquery-1.12.4.min.js%22%3E%3C/script%3E%0A%20%20%20%20%3Cscript%20src%3D%22https%3A//maxcdn.bootstrapcdn.com/bootstrap/3.2.0/js/bootstrap.min.js%22%3E%3C/script%3E%0A%20%20%20%20%3Cscript%20src%3D%22https%3A//cdnjs.cloudflare.com/ajax/libs/Leaflet.awesome-markers/2.0.2/leaflet.awesome-markers.js%22%3E%3C/script%3E%0A%20%20%20%20%3Clink%20rel%3D%22stylesheet%22%20href%3D%22https%3A//cdn.jsdelivr.net/npm/leaflet%401.6.0/dist/leaflet.css%22/%3E%0A%20%20%20%20%3Clink%20rel%3D%22stylesheet%22%20href%3D%22https%3A//maxcdn.bootstrapcdn.com/bootstrap/3.2.0/css/bootstrap.min.css%22/%3E%0A%20%20%20%20%3Clink%20rel%3D%22stylesheet%22%20href%3D%22https%3A//maxcdn.bootstrapcdn.com/bootstrap/3.2.0/css/bootstrap-theme.min.css%22/%3E%0A%20%20%20%20%3Clink%20rel%3D%22stylesheet%22%20href%3D%22https%3A//maxcdn.bootstrapcdn.com/font-awesome/4.6.3/css/font-awesome.min.css%22/%3E%0A%20%20%20%20%3Clink%20rel%3D%22stylesheet%22%20href%3D%22https%3A//cdnjs.cloudflare.com/ajax/libs/Leaflet.awesome-markers/2.0.2/leaflet.awesome-markers.css%22/%3E%0A%20%20%20%20%3Clink%20rel%3D%22stylesheet%22%20href%3D%22https%3A//cdn.jsdelivr.net/gh/python-visualization/folium/folium/templates/leaflet.awesome.rotate.min.css%22/%3E%0A%20%20%20%20%0A%20%20%20%20%20%20%20%20%20%20%20%20%3Cmeta%20name%3D%22viewport%22%20content%3D%22width%3Ddevice-width%2C%0A%20%20%20%20%20%20%20%20%20%20%20%20%20%20%20%20initial-scale%3D1.0%2C%20maximum-scale%3D1.0%2C%20user-scalable%3Dno%22%20/%3E%0A%20%20%20%20%20%20%20%20%20%20%20%20%3Cstyle%3E%0A%20%20%20%20%20%20%20%20%20%20%20%20%20%20%20%20%23map_c8e8b42dc71c4c55acff504b25dffe40%20%7B%0A%20%20%20%20%20%20%20%20%20%20%20%20%20%20%20%20%20%20%20%20position%3A%20relative%3B%0A%20%20%20%20%20%20%20%20%20%20%20%20%20%20%20%20%20%20%20%20width%3A%20100.0%25%3B%0A%20%20%20%20%20%20%20%20%20%20%20%20%20%20%20%20%20%20%20%20height%3A%20100.0%25%3B%0A%20%20%20%20%20%20%20%20%20%20%20%20%20%20%20%20%20%20%20%20left%3A%200.0%25%3B%0A%20%20%20%20%20%20%20%20%20%20%20%20%20%20%20%20%20%20%20%20top%3A%200.0%25%3B%0A%20%20%20%20%20%20%20%20%20%20%20%20%20%20%20%20%7D%0A%20%20%20%20%20%20%20%20%20%20%20%20%3C/style%3E%0A%20%20%20%20%20%20%20%20%0A%20%20%20%20%3Cscript%20src%3D%22https%3A//cdn.jsdelivr.net/npm/leaflet-ant-path%401.1.2/dist/leaflet-ant-path.min.js%22%3E%3C/script%3E%0A%3C/head%3E%0A%3Cbody%3E%20%20%20%20%0A%20%20%20%20%0A%20%20%20%20%20%20%20%20%20%20%20%20%3Cdiv%20class%3D%22folium-map%22%20id%3D%22map_c8e8b42dc71c4c55acff504b25dffe40%22%20%3E%3C/div%3E%0A%20%20%20%20%20%20%20%20%0A%3C/body%3E%0A%3Cscript%3E%20%20%20%20%0A%20%20%20%20%0A%20%20%20%20%20%20%20%20%20%20%20%20var%20map_c8e8b42dc71c4c55acff504b25dffe40%20%3D%20L.map%28%0A%20%20%20%20%20%20%20%20%20%20%20%20%20%20%20%20%22map_c8e8b42dc71c4c55acff504b25dffe40%22%2C%0A%20%20%20%20%20%20%20%20%20%20%20%20%20%20%20%20%7B%0A%20%20%20%20%20%20%20%20%20%20%20%20%20%20%20%20%20%20%20%20center%3A%20%5B32.958986929411765%2C%20115.24480937058823%5D%2C%0A%20%20%20%20%20%20%20%20%20%20%20%20%20%20%20%20%20%20%20%20crs%3A%20L.CRS.EPSG3857%2C%0A%20%20%20%20%20%20%20%20%20%20%20%20%20%20%20%20%20%20%20%20zoom%3A%203%2C%0A%20%20%20%20%20%20%20%20%20%20%20%20%20%20%20%20%20%20%20%20zoomControl%3A%20true%2C%0A%20%20%20%20%20%20%20%20%20%20%20%20%20%20%20%20%20%20%20%20preferCanvas%3A%20false%2C%0A%20%20%20%20%20%20%20%20%20%20%20%20%20%20%20%20%7D%0A%20%20%20%20%20%20%20%20%20%20%20%20%29%3B%0A%0A%20%20%20%20%20%20%20%20%20%20%20%20%0A%0A%20%20%20%20%20%20%20%20%0A%20%20%20%20%0A%20%20%20%20%20%20%20%20%20%20%20%20var%20tile_layer_23e4b5e9416f432885ce7308f59e9956%20%3D%20L.tileLayer%28%0A%20%20%20%20%20%20%20%20%20%20%20%20%20%20%20%20%22https%3A//%7Bs%7D.tile.openstreetmap.org/%7Bz%7D/%7Bx%7D/%7By%7D.png%22%2C%0A%20%20%20%20%20%20%20%20%20%20%20%20%20%20%20%20%7B%22attribution%22%3A%20%22Data%20by%20%5Cu0026copy%3B%20%5Cu003ca%20href%3D%5C%22http%3A//openstreetmap.org%5C%22%5Cu003eOpenStreetMap%5Cu003c/a%5Cu003e%2C%20under%20%5Cu003ca%20href%3D%5C%22http%3A//www.openstreetmap.org/copyright%5C%22%5Cu003eODbL%5Cu003c/a%5Cu003e.%22%2C%20%22detectRetina%22%3A%20false%2C%20%22maxNativeZoom%22%3A%2018%2C%20%22maxZoom%22%3A%2018%2C%20%22minZoom%22%3A%200%2C%20%22noWrap%22%3A%20false%2C%20%22opacity%22%3A%201%2C%20%22subdomains%22%3A%20%22abc%22%2C%20%22tms%22%3A%20false%7D%0A%20%20%20%20%20%20%20%20%20%20%20%20%29.addTo%28map_c8e8b42dc71c4c55acff504b25dffe40%29%3B%0A%20%20%20%20%20%20%20%20%0A%20%20%20%20%0A%20%20%20%20%20%20%20%20%20%20%20%20ant_path_3431f863e19c45c88087dfe36e97b8b3%20%3D%20L.polyline.antPath%28%0A%20%20%20%20%20%20%20%20%20%20%20%20%20%20%5B%5B30.366666700000003%2C%20113.4833333%5D%2C%20%5B30.6%2C%20112.8833333%5D%2C%20%5B30.066666700000003%2C%20114.1166667%5D%2C%20%5B29.5333333%2C%20114.15%5D%2C%20%5B28.3769444%2C%20118.7847222%5D%2C%20%5B28.7994444%2C%20118.9697222%5D%2C%20%5B30.1644444%2C%20119.1138889%5D%2C%20%5B30.291944400000002%2C%20118.5425%5D%2C%20%5B30.775%2C%20118.025%5D%2C%20%5B31.445833299999997%2C%20120.2383333%5D%2C%20%5B32.271666700000004%2C%20118.76361109999999%5D%2C%20%5B32.7647222%2C%20118.5277778%5D%2C%20%5B31.741666700000003%2C%20116.375%5D%2C%20%5B30.6111111%2C%20116.8916667%5D%2C%20%5B30.413888900000003%2C%20117.2277778%5D%2C%20%5B29.376388900000002%2C%20117.2466667%5D%2C%20%5B26.8677778%2C%20116.6152778%5D%2C%20%5B25.2386111%2C%20116.63083329999999%5D%2C%20%5B25.5927778%2C%20117.89277779999999%5D%2C%20%5B29.05%2C%20113.1166667%5D%2C%20%5B31.2566667%2C%20113.855%5D%2C%20%5B34.6077778%2C%20112.46861109999999%5D%2C%20%5B35.375277800000006%2C%20110.40444439999999%5D%2C%20%5B36.2852778%2C%20110.1380556%5D%2C%20%5B39.216666700000005%2C%20110.1166667%5D%2C%20%5B39.1972222%2C%20111.6475%5D%2C%20%5B37.6141667%2C%20112.72138890000001%5D%2C%20%5B37.752777800000004%2C%20115.9625%5D%2C%20%5B38.9333333%2C%20116.91666670000001%5D%2C%20%5B40.5%2C%20116.4%5D%2C%20%5B40.7155556%2C%20115.8741667%5D%2C%20%5B41.4%2C%20115.5166667%5D%2C%20%5B39.296111100000005%2C%20122.09555560000001%5D%2C%20%5B41.578888899999995%2C%20120.85611109999999%5D%2C%20%5B41.6972222%2C%20119.5633333%5D%2C%20%5B39.27%2C%20121.6322222%5D%2C%20%5B44.1333333%2C%20125.9%5D%2C%20%5B43.466666700000005%2C%20128.2166667%5D%2C%20%5B46.5%2C%20127.15%5D%2C%20%5B34.25%2C%20119.75%5D%2C%20%5B28.2444444%2C%20121.1138889%5D%2C%20%5B23.6727778%2C%20112.6802778%5D%2C%20%5B23.4%2C%20113.0%5D%2C%20%5B22.3322222%2C%20111.41972220000001%5D%2C%20%5B18.8472222%2C%20109.5841667%5D%2C%20%5B22.8794444%2C%20107.2836111%5D%2C%20%5B27.9088889%2C%20107.0844444%5D%2C%20%5B27.5786111%2C%20106.69666670000001%5D%2C%20%5B34.8216667%2C%20107.1461111%5D%2C%20%5B43.4605556%2C%2083.2119444%5D%2C%20%5B30.366666700000003%2C%20113.4833333%5D%5D%2C%0A%20%20%20%20%20%20%20%20%20%20%20%20%20%20%7B%22bubblingMouseEvents%22%3A%20true%2C%20%22color%22%3A%20%22%230000FF%22%2C%20%22dashArray%22%3A%20%5B10%2C%2020%5D%2C%20%22dashOffset%22%3A%20null%2C%20%22delay%22%3A%20400%2C%20%22fill%22%3A%20false%2C%20%22fillColor%22%3A%20%22%233388ff%22%2C%20%22fillOpacity%22%3A%200.2%2C%20%22fillRule%22%3A%20%22evenodd%22%2C%20%22hardwareAcceleration%22%3A%20false%2C%20%22lineCap%22%3A%20%22round%22%2C%20%22lineJoin%22%3A%20%22round%22%2C%20%22noClip%22%3A%20false%2C%20%22opacity%22%3A%200.5%2C%20%22paused%22%3A%20false%2C%20%22pulseColor%22%3A%20%22%23FFFFFF%22%2C%20%22reverse%22%3A%20false%2C%20%22smoothFactor%22%3A%201.0%2C%20%22stroke%22%3A%20true%2C%20%22weight%22%3A%205%7D%0A%20%20%20%20%20%20%20%20%29.addTo%28map_c8e8b42dc71c4c55acff504b25dffe40%29%3B%0A%20%20%20%20%20%20%20%20%0A%3C/script%3E onload=\"this.contentDocument.open();this.contentDocument.write(    decodeURIComponent(this.getAttribute('data-html')));this.contentDocument.close();\" allowfullscreen webkitallowfullscreen mozallowfullscreen></iframe></div></div>"
      ],
      "text/plain": [
       "<folium.folium.Map at 0x7f83a14d93d0>"
      ]
     },
     "execution_count": 25,
     "metadata": {},
     "output_type": "execute_result"
    }
   ],
   "source": [
    "import pants\n",
    "import numpy as np\n",
    "import math\n",
    "import folium\n",
    "from folium import plugins\n",
    "\n",
    "def euclidean(a, b):\n",
    "    return math.sqrt(pow(a[1] - b[1], 2) + pow(a[0] - b[0], 2))\n",
    "\n",
    "nodes = []\n",
    "nodes = [(x, y) for x, y in zip(coord_df['lat'], coord_df['lon'])]\n",
    "\n",
    "world = pants.World(nodes, euclidean)\n",
    "solver = pants.Solver()\n",
    "solution = solver.solve(world)\n",
    "\n",
    "print(solution.distance)\n",
    "#print(solution.tour)    # Nodes visited in order\n",
    "#print(solution.path)    # Edges taken in order\n",
    "\n",
    "\n",
    "# route \n",
    "route_coord = solution.tour\n",
    "# adds origin\n",
    "route_coord.append(route_coord[0])\n",
    "# avg point\n",
    "x,  y= zip(*route_coord)\n",
    "mean_x = np.mean(x)\n",
    "mean_y = np.mean(y)\n",
    "    \n",
    "# map\n",
    "map_cities = folium.Map(zoom_start=3, location=[mean_x, mean_y])\n",
    "    \n",
    "# add route\n",
    "plugins.AntPath(route_coord).add_to(map_cities)\n",
    "\n",
    "map_cities"
   ]
  },
  {
   "cell_type": "markdown",
   "id": "rough-corporation",
   "metadata": {},
   "source": [
    "## Referencias\n",
    "\n",
    "- Folium: https://python-visualization.github.io/folium/\n",
    "- Python maps with folium: https://www.youtube.com/watch?v=t9Ed5QyO7qY\n",
    "- ACO Pants: https://pypi.org/project/ACO-Pants/"
   ]
  }
 ],
 "metadata": {
  "kernelspec": {
   "display_name": "Python 3",
   "language": "python",
   "name": "python3"
  },
  "language_info": {
   "codemirror_mode": {
    "name": "ipython",
    "version": 3
   },
   "file_extension": ".py",
   "mimetype": "text/x-python",
   "name": "python",
   "nbconvert_exporter": "python",
   "pygments_lexer": "ipython3",
   "version": "3.7.10"
  }
 },
 "nbformat": 4,
 "nbformat_minor": 5
}
