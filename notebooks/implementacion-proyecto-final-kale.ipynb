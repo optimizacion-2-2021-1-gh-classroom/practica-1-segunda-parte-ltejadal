{
 "cells": [
  {
   "cell_type": "code",
   "execution_count": null,
   "id": "senior-firewall",
   "metadata": {},
   "outputs": [],
   "source": [
    "from IPython.display import Image"
   ]
  },
  {
   "cell_type": "markdown",
   "id": "registered-produce",
   "metadata": {
    "tags": []
   },
   "source": [
    "## Implementación - Proyecto final\n",
    "\n",
    "El propósito de este _notebook_ es presentar la implementación de la librería [ACO-TSP](https://github.com/C1587S/ACO-TSP/) utilizando un el conjunto de datos 150 de ciudades de China disponible en la base de datos _National Traveling Salesman Problems_ de la Universidad de Waterloo, disponible [aquí](https://www.math.uwaterloo.ca/tsp/world/countries.html). Esta implementación se realiza en forma de _pipeline_ para ser ejecutada en [`kubeflow`](https://www.kubeflow.org/) usando [`kale`](https://github.com/kubeflow-kale/kale). \n",
    "\n",
    "En particular, se siguen los siguientes pasos:\n"
   ]
  },
  {
   "cell_type": "code",
   "execution_count": null,
   "id": "corporate-sixth",
   "metadata": {},
   "outputs": [],
   "source": [
    "Image(\"imgs/pipeline_kale.png\")"
   ]
  },
  {
   "cell_type": "code",
   "execution_count": 1,
   "id": "independent-single",
   "metadata": {
    "tags": [
     "imports"
    ]
   },
   "outputs": [],
   "source": [
    "import ant_colony as ac\n",
    "import json\n",
    "import timeit\n",
    "import time\n",
    "from multiprocessing import cpu_count"
   ]
  },
  {
   "cell_type": "code",
   "execution_count": 2,
   "id": "stable-collector",
   "metadata": {
    "tags": [
     "pipeline-parameters"
    ]
   },
   "outputs": [],
   "source": [
    "## parametros del algoritmo\n",
    "data_path = 'datasets/ch71009.tsp'\n",
    "init_node_ex = 0\n",
    "hp_trials = 50\n",
    "save_hp = True\n",
    "seed = 19519159\n",
    "n_cities = 150\n",
    "n_cities_hp = 20"
   ]
  },
  {
   "cell_type": "code",
   "execution_count": 3,
   "id": "close-floating",
   "metadata": {
    "tags": [
     "block:read_data"
    ]
   },
   "outputs": [
    {
     "name": "stdout",
     "output_type": "stream",
     "text": [
      "Problem with 71009 cities. Selected 30.\n",
      "Problem with 71009 cities. Selected 30.\n",
      "Problem with 71009 cities. Selected 10.\n"
     ]
    }
   ],
   "source": [
    "# lectura de datos \n",
    "\n",
    "## 200 ciudades - coordenadas y grafo\n",
    "coord_df = ac.read_coord_data(data_path, n_cities=n_cities, seed=seed, coord_df=True)\n",
    "G = ac.read_coord_data(data_path, n_cities=n_cities, seed=seed, coord_df=False)\n",
    "## 30 ciudades - grafo hp\n",
    "G_hp = ac.read_coord_data(data_path, n_cities=n_cities_hp, seed=seed, coord_df=False)"
   ]
  },
  {
   "cell_type": "code",
   "execution_count": 14,
   "id": "expensive-divide",
   "metadata": {
    "tags": [
     "block:vis_nodes",
     "prev:read_data"
    ]
   },
   "outputs": [],
   "source": [
    "# visualizar y guardar mapa\n",
    "map_nodes = ac.plot_nodes_map(coord_df, save=True, save_as='map_nodes')"
   ]
  },
  {
   "cell_type": "code",
   "execution_count": 15,
   "id": "unlike-publication",
   "metadata": {
    "tags": [
     "block:optim_hp",
     "prev:read_data"
    ]
   },
   "outputs": [
    {
     "name": "stderr",
     "output_type": "stream",
     "text": [
      "\u001b[32m[I 2021-05-19 14:00:20,062]\u001b[0m A new study created in RDB with name: optimize_aco\u001b[0m\n",
      "\u001b[32m[I 2021-05-19 14:00:21,129]\u001b[0m Trial 0 finished with value: 2690.6691377268653 and parameters: {'n_ants': 20, 'max_iter': 100, 'rho': 0.3123127098659181, 'alpha': 2, 'beta': 1}. Best is trial 0 with value: 2690.6691377268653.\u001b[0m\n",
      "\u001b[32m[I 2021-05-19 14:00:23,697]\u001b[0m Trial 1 finished with value: 2462.6175124794086 and parameters: {'n_ants': 468, 'max_iter': 10, 'rho': 0.3830337251812589, 'alpha': 3, 'beta': 1}. Best is trial 1 with value: 2462.6175124794086.\u001b[0m\n",
      "\u001b[32m[I 2021-05-19 14:00:23,798]\u001b[0m Trial 2 finished with value: 5459.408053729692 and parameters: {'n_ants': 5, 'max_iter': 1, 'rho': 0.7258153206643667, 'alpha': 3, 'beta': 1}. Best is trial 1 with value: 2462.6175124794086.\u001b[0m\n",
      "\u001b[32m[I 2021-05-19 14:00:23,869]\u001b[0m Trial 3 finished with value: 6715.112156036722 and parameters: {'n_ants': 3, 'max_iter': 1, 'rho': 0.9750247872387847, 'alpha': 0, 'beta': 5}. Best is trial 1 with value: 2462.6175124794086.\u001b[0m\n",
      "\u001b[32m[I 2021-05-19 14:00:24,636]\u001b[0m Trial 4 finished with value: 3052.6793359093085 and parameters: {'n_ants': 15, 'max_iter': 100, 'rho': 0.018268678090262114, 'alpha': 2, 'beta': 3}. Best is trial 1 with value: 2462.6175124794086.\u001b[0m\n",
      "\u001b[32m[I 2021-05-19 14:00:24,757]\u001b[0m Trial 5 finished with value: 7396.8548291951965 and parameters: {'n_ants': 2, 'max_iter': 1, 'rho': 0.034187107196729016, 'alpha': 2, 'beta': 2}. Best is trial 1 with value: 2462.6175124794086.\u001b[0m\n",
      "\u001b[32m[I 2021-05-19 14:00:28,331]\u001b[0m Trial 6 finished with value: 2368.8979975319776 and parameters: {'n_ants': 703, 'max_iter': 10, 'rho': 0.012315030093075108, 'alpha': 0, 'beta': 4}. Best is trial 6 with value: 2368.8979975319776.\u001b[0m\n",
      "\u001b[32m[I 2021-05-19 14:00:31,204]\u001b[0m Trial 7 finished with value: 2593.795028857155 and parameters: {'n_ants': 558, 'max_iter': 10, 'rho': 0.7015739220941708, 'alpha': 5, 'beta': 1}. Best is trial 6 with value: 2368.8979975319776.\u001b[0m\n",
      "\u001b[32m[I 2021-05-19 14:00:36,623]\u001b[0m Trial 8 finished with value: 2405.7636258901603 and parameters: {'n_ants': 109, 'max_iter': 100, 'rho': 0.70811718929862, 'alpha': 3, 'beta': 1}. Best is trial 6 with value: 2368.8979975319776.\u001b[0m\n",
      "\u001b[32m[I 2021-05-19 14:00:36,737]\u001b[0m Trial 9 finished with value: 5625.931178387108 and parameters: {'n_ants': 5, 'max_iter': 1, 'rho': 0.44481631267211175, 'alpha': 3, 'beta': 4}. Best is trial 6 with value: 2368.8979975319776.\u001b[0m\n"
     ]
    },
    {
     "name": "stdout",
     "output_type": "stream",
     "text": [
      "Hyper-parameters saved in ./best_hiper_params.db\n"
     ]
    }
   ],
   "source": [
    "# optimizacion de hiper-parametros y guardar en disco\n",
    "study = ac.optim_h_params_mp(G_hp,\n",
    "                          init_node = init_node_ex,\n",
    "                          trials = hp_trials, \n",
    "                          save = save_hp)"
   ]
  },
  {
   "cell_type": "code",
   "execution_count": 16,
   "id": "alone-recipient",
   "metadata": {
    "tags": [
     "block:load_bst_hp",
     "prev:optim_hp"
    ]
   },
   "outputs": [],
   "source": [
    "# cargar mejores hp\n",
    "best_params = ac.load_params('best_hiper_params.db')"
   ]
  },
  {
   "cell_type": "code",
   "execution_count": 17,
   "id": "aboriginal-edinburgh",
   "metadata": {
    "tags": [
     "block:inst_colony_mp",
     "prev:load_bst_hp"
    ]
   },
   "outputs": [],
   "source": [
    "# instanciar colony_multiw con mejores hp\n",
    "n_cpu = cpu_count()\n",
    "\n",
    "colony_mw = ac.colony_multiw(G, \n",
    "                             init_node=0,  \n",
    "                             n_workers = n_cpu,\n",
    "                             verbose=True, k_verbose=10,\n",
    "                              **best_params)"
   ]
  },
  {
   "cell_type": "code",
   "execution_count": 19,
   "id": "adopted-heritage",
   "metadata": {
    "tags": [
     "block:solve_tsp",
     "prev:inst_colony_mp"
    ]
   },
   "outputs": [
    {
     "name": "stdout",
     "output_type": "stream",
     "text": [
      "iter: 0 / 10 - dist: 215.69\n",
      "\n",
      "\n",
      "------------------------------\n",
      "Resumen:\n",
      "\tNro. de hormigas: 703\n",
      "\tIteraciones: 10\n",
      "\tDistancia: 214.62890760468554\n",
      "\tNodo inicial: 0\n",
      "\tRuta: [0, 25, 24, 27, 23, 7, 6, 3, 28, 18, 26, 2, 9, 15, 10, 13, 14, 5, 17, 16, 12, 19, 29, 21, 4, 20, 1, 22, 8, 11, 0]\n",
      "------------------------------\n"
     ]
    }
   ],
   "source": [
    "# solucionar el problema tsp con aco\n",
    "start_time = time.time()\n",
    "colony_mw.solve_tsp()\n",
    "end_time = time.time()\n",
    "\n",
    "secs = end_time-start_time\n",
    "print(\"La solucion con pool tomó\", secs, \"segundos.\" )\n",
    "print(f\"Distancia {colony_mw.best_dist} kms.\")"
   ]
  },
  {
   "cell_type": "code",
   "execution_count": 21,
   "id": "conservative-three",
   "metadata": {
    "tags": [
     "block:vis_sln",
     "prev:solve_tsp"
    ]
   },
   "outputs": [
    {
     "data": {
      "text/html": [
       "<div style=\"width:100%;\"><div style=\"position:relative;width:100%;height:0;padding-bottom:60%;\"><span style=\"color:#565656\">Make this Notebook Trusted to load map: File -> Trust Notebook</span><iframe src=\"about:blank\" style=\"position:absolute;width:100%;height:100%;left:0;top:0;border:none !important;\" data-html=%3C%21DOCTYPE%20html%3E%0A%3Chead%3E%20%20%20%20%0A%20%20%20%20%3Cmeta%20http-equiv%3D%22content-type%22%20content%3D%22text/html%3B%20charset%3DUTF-8%22%20/%3E%0A%20%20%20%20%0A%20%20%20%20%20%20%20%20%3Cscript%3E%0A%20%20%20%20%20%20%20%20%20%20%20%20L_NO_TOUCH%20%3D%20false%3B%0A%20%20%20%20%20%20%20%20%20%20%20%20L_DISABLE_3D%20%3D%20false%3B%0A%20%20%20%20%20%20%20%20%3C/script%3E%0A%20%20%20%20%0A%20%20%20%20%3Cstyle%3Ehtml%2C%20body%20%7Bwidth%3A%20100%25%3Bheight%3A%20100%25%3Bmargin%3A%200%3Bpadding%3A%200%3B%7D%3C/style%3E%0A%20%20%20%20%3Cstyle%3E%23map%20%7Bposition%3Aabsolute%3Btop%3A0%3Bbottom%3A0%3Bright%3A0%3Bleft%3A0%3B%7D%3C/style%3E%0A%20%20%20%20%3Cscript%20src%3D%22https%3A//cdn.jsdelivr.net/npm/leaflet%401.6.0/dist/leaflet.js%22%3E%3C/script%3E%0A%20%20%20%20%3Cscript%20src%3D%22https%3A//code.jquery.com/jquery-1.12.4.min.js%22%3E%3C/script%3E%0A%20%20%20%20%3Cscript%20src%3D%22https%3A//maxcdn.bootstrapcdn.com/bootstrap/3.2.0/js/bootstrap.min.js%22%3E%3C/script%3E%0A%20%20%20%20%3Cscript%20src%3D%22https%3A//cdnjs.cloudflare.com/ajax/libs/Leaflet.awesome-markers/2.0.2/leaflet.awesome-markers.js%22%3E%3C/script%3E%0A%20%20%20%20%3Clink%20rel%3D%22stylesheet%22%20href%3D%22https%3A//cdn.jsdelivr.net/npm/leaflet%401.6.0/dist/leaflet.css%22/%3E%0A%20%20%20%20%3Clink%20rel%3D%22stylesheet%22%20href%3D%22https%3A//maxcdn.bootstrapcdn.com/bootstrap/3.2.0/css/bootstrap.min.css%22/%3E%0A%20%20%20%20%3Clink%20rel%3D%22stylesheet%22%20href%3D%22https%3A//maxcdn.bootstrapcdn.com/bootstrap/3.2.0/css/bootstrap-theme.min.css%22/%3E%0A%20%20%20%20%3Clink%20rel%3D%22stylesheet%22%20href%3D%22https%3A//maxcdn.bootstrapcdn.com/font-awesome/4.6.3/css/font-awesome.min.css%22/%3E%0A%20%20%20%20%3Clink%20rel%3D%22stylesheet%22%20href%3D%22https%3A//cdnjs.cloudflare.com/ajax/libs/Leaflet.awesome-markers/2.0.2/leaflet.awesome-markers.css%22/%3E%0A%20%20%20%20%3Clink%20rel%3D%22stylesheet%22%20href%3D%22https%3A//cdn.jsdelivr.net/gh/python-visualization/folium/folium/templates/leaflet.awesome.rotate.min.css%22/%3E%0A%20%20%20%20%0A%20%20%20%20%20%20%20%20%20%20%20%20%3Cmeta%20name%3D%22viewport%22%20content%3D%22width%3Ddevice-width%2C%0A%20%20%20%20%20%20%20%20%20%20%20%20%20%20%20%20initial-scale%3D1.0%2C%20maximum-scale%3D1.0%2C%20user-scalable%3Dno%22%20/%3E%0A%20%20%20%20%20%20%20%20%20%20%20%20%3Cstyle%3E%0A%20%20%20%20%20%20%20%20%20%20%20%20%20%20%20%20%23map_626b8ef4df324cb9ad29a0834e809070%20%7B%0A%20%20%20%20%20%20%20%20%20%20%20%20%20%20%20%20%20%20%20%20position%3A%20relative%3B%0A%20%20%20%20%20%20%20%20%20%20%20%20%20%20%20%20%20%20%20%20width%3A%20100.0%25%3B%0A%20%20%20%20%20%20%20%20%20%20%20%20%20%20%20%20%20%20%20%20height%3A%20100.0%25%3B%0A%20%20%20%20%20%20%20%20%20%20%20%20%20%20%20%20%20%20%20%20left%3A%200.0%25%3B%0A%20%20%20%20%20%20%20%20%20%20%20%20%20%20%20%20%20%20%20%20top%3A%200.0%25%3B%0A%20%20%20%20%20%20%20%20%20%20%20%20%20%20%20%20%7D%0A%20%20%20%20%20%20%20%20%20%20%20%20%3C/style%3E%0A%20%20%20%20%20%20%20%20%0A%20%20%20%20%3Cscript%20src%3D%22https%3A//cdn.jsdelivr.net/gh/marslan390/BeautifyMarker/leaflet-beautify-marker-icon.min.js%22%3E%3C/script%3E%0A%20%20%20%20%3Clink%20rel%3D%22stylesheet%22%20href%3D%22https%3A//cdn.jsdelivr.net/gh/marslan390/BeautifyMarker/leaflet-beautify-marker-icon.min.css%22/%3E%0A%20%20%20%20%3Cscript%20src%3D%22https%3A//cdn.jsdelivr.net/npm/leaflet-ant-path%401.1.2/dist/leaflet-ant-path.min.js%22%3E%3C/script%3E%0A%3C/head%3E%0A%3Cbody%3E%20%20%20%20%0A%20%20%20%20%0A%20%20%20%20%20%20%20%20%20%20%20%20%3Cdiv%20class%3D%22folium-map%22%20id%3D%22map_626b8ef4df324cb9ad29a0834e809070%22%20%3E%3C/div%3E%0A%20%20%20%20%20%20%20%20%0A%3C/body%3E%0A%3Cscript%3E%20%20%20%20%0A%20%20%20%20%0A%20%20%20%20%20%20%20%20%20%20%20%20var%20map_626b8ef4df324cb9ad29a0834e809070%20%3D%20L.map%28%0A%20%20%20%20%20%20%20%20%20%20%20%20%20%20%20%20%22map_626b8ef4df324cb9ad29a0834e809070%22%2C%0A%20%20%20%20%20%20%20%20%20%20%20%20%20%20%20%20%7B%0A%20%20%20%20%20%20%20%20%20%20%20%20%20%20%20%20%20%20%20%20center%3A%20%5B32.337060929032255%2C%20114.96379927741934%5D%2C%0A%20%20%20%20%20%20%20%20%20%20%20%20%20%20%20%20%20%20%20%20crs%3A%20L.CRS.EPSG3857%2C%0A%20%20%20%20%20%20%20%20%20%20%20%20%20%20%20%20%20%20%20%20zoom%3A%203%2C%0A%20%20%20%20%20%20%20%20%20%20%20%20%20%20%20%20%20%20%20%20zoomControl%3A%20true%2C%0A%20%20%20%20%20%20%20%20%20%20%20%20%20%20%20%20%20%20%20%20preferCanvas%3A%20false%2C%0A%20%20%20%20%20%20%20%20%20%20%20%20%20%20%20%20%7D%0A%20%20%20%20%20%20%20%20%20%20%20%20%29%3B%0A%0A%20%20%20%20%20%20%20%20%20%20%20%20%0A%0A%20%20%20%20%20%20%20%20%0A%20%20%20%20%0A%20%20%20%20%20%20%20%20%20%20%20%20var%20tile_layer_0f727b3041174d6ea7afc115f89fb591%20%3D%20L.tileLayer%28%0A%20%20%20%20%20%20%20%20%20%20%20%20%20%20%20%20%22https%3A//%7Bs%7D.tile.openstreetmap.org/%7Bz%7D/%7Bx%7D/%7By%7D.png%22%2C%0A%20%20%20%20%20%20%20%20%20%20%20%20%20%20%20%20%7B%22attribution%22%3A%20%22Data%20by%20%5Cu0026copy%3B%20%5Cu003ca%20href%3D%5C%22http%3A//openstreetmap.org%5C%22%5Cu003eOpenStreetMap%5Cu003c/a%5Cu003e%2C%20under%20%5Cu003ca%20href%3D%5C%22http%3A//www.openstreetmap.org/copyright%5C%22%5Cu003eODbL%5Cu003c/a%5Cu003e.%22%2C%20%22detectRetina%22%3A%20false%2C%20%22maxNativeZoom%22%3A%2018%2C%20%22maxZoom%22%3A%2018%2C%20%22minZoom%22%3A%200%2C%20%22noWrap%22%3A%20false%2C%20%22opacity%22%3A%201%2C%20%22subdomains%22%3A%20%22abc%22%2C%20%22tms%22%3A%20false%7D%0A%20%20%20%20%20%20%20%20%20%20%20%20%29.addTo%28map_626b8ef4df324cb9ad29a0834e809070%29%3B%0A%20%20%20%20%20%20%20%20%0A%20%20%20%20%0A%20%20%20%20%20%20%20%20%20%20%20%20var%20marker_961fba4a8cac4c0b9da1b0cbe146e2cf%20%3D%20L.marker%28%0A%20%20%20%20%20%20%20%20%20%20%20%20%20%20%20%20%5B38.252777800000004%2C%20114.18694439999999%5D%2C%0A%20%20%20%20%20%20%20%20%20%20%20%20%20%20%20%20%7B%7D%0A%20%20%20%20%20%20%20%20%20%20%20%20%29.addTo%28map_626b8ef4df324cb9ad29a0834e809070%29%3B%0A%20%20%20%20%20%20%20%20%0A%20%20%20%20%0A%20%20%20%20%20%20%20%20%20%20%20%20var%20beautify_icon_b46b999d2e5e4dc79ec93ab1a6fcb295%20%3D%20new%20L.BeautifyIcon.icon%28%0A%20%20%20%20%20%20%20%20%20%20%20%20%20%20%20%20%7B%22backgroundColor%22%3A%20%22%23FFF%22%2C%20%22borderColor%22%3A%20%22blue%22%2C%20%22borderWidth%22%3A%201%2C%20%22innerIconStyle%22%3A%20%22margin-top%3A0px%3B%22%2C%20%22isAlphaNumericIcon%22%3A%20true%2C%20%22spin%22%3A%20false%2C%20%22text%22%3A%200%2C%20%22textColor%22%3A%20%22red%22%7D%0A%20%20%20%20%20%20%20%20%20%20%20%20%29%0A%20%20%20%20%20%20%20%20%20%20%20%20marker_961fba4a8cac4c0b9da1b0cbe146e2cf.setIcon%28beautify_icon_b46b999d2e5e4dc79ec93ab1a6fcb295%29%3B%0A%20%20%20%20%20%20%20%20%0A%20%20%20%20%0A%20%20%20%20%20%20%20%20%20%20%20%20var%20marker_c3371dfe472a48f080ed009cce7d18b3%20%3D%20L.marker%28%0A%20%20%20%20%20%20%20%20%20%20%20%20%20%20%20%20%5B41.8666667%2C%20123.66666670000001%5D%2C%0A%20%20%20%20%20%20%20%20%20%20%20%20%20%20%20%20%7B%7D%0A%20%20%20%20%20%20%20%20%20%20%20%20%29.addTo%28map_626b8ef4df324cb9ad29a0834e809070%29%3B%0A%20%20%20%20%20%20%20%20%0A%20%20%20%20%0A%20%20%20%20%20%20%20%20%20%20%20%20var%20beautify_icon_89029ed75c1f41edb71a90bd2180310b%20%3D%20new%20L.BeautifyIcon.icon%28%0A%20%20%20%20%20%20%20%20%20%20%20%20%20%20%20%20%7B%22backgroundColor%22%3A%20%22%23FFF%22%2C%20%22borderColor%22%3A%20%22blue%22%2C%20%22borderWidth%22%3A%201%2C%20%22innerIconStyle%22%3A%20%22margin-top%3A0px%3B%22%2C%20%22isAlphaNumericIcon%22%3A%20true%2C%20%22spin%22%3A%20false%2C%20%22text%22%3A%2025%2C%20%22textColor%22%3A%20%22red%22%7D%0A%20%20%20%20%20%20%20%20%20%20%20%20%29%0A%20%20%20%20%20%20%20%20%20%20%20%20marker_c3371dfe472a48f080ed009cce7d18b3.setIcon%28beautify_icon_89029ed75c1f41edb71a90bd2180310b%29%3B%0A%20%20%20%20%20%20%20%20%0A%20%20%20%20%0A%20%20%20%20%20%20%20%20%20%20%20%20var%20marker_5f2822f4431a47b08ea32be5ca75c9a0%20%3D%20L.marker%28%0A%20%20%20%20%20%20%20%20%20%20%20%20%20%20%20%20%5B43.6%2C%20124.7166667%5D%2C%0A%20%20%20%20%20%20%20%20%20%20%20%20%20%20%20%20%7B%7D%0A%20%20%20%20%20%20%20%20%20%20%20%20%29.addTo%28map_626b8ef4df324cb9ad29a0834e809070%29%3B%0A%20%20%20%20%20%20%20%20%0A%20%20%20%20%0A%20%20%20%20%20%20%20%20%20%20%20%20var%20beautify_icon_0fbae6b9b7564c988c3fd0f2ea872bc3%20%3D%20new%20L.BeautifyIcon.icon%28%0A%20%20%20%20%20%20%20%20%20%20%20%20%20%20%20%20%7B%22backgroundColor%22%3A%20%22%23FFF%22%2C%20%22borderColor%22%3A%20%22blue%22%2C%20%22borderWidth%22%3A%201%2C%20%22innerIconStyle%22%3A%20%22margin-top%3A0px%3B%22%2C%20%22isAlphaNumericIcon%22%3A%20true%2C%20%22spin%22%3A%20false%2C%20%22text%22%3A%2024%2C%20%22textColor%22%3A%20%22red%22%7D%0A%20%20%20%20%20%20%20%20%20%20%20%20%29%0A%20%20%20%20%20%20%20%20%20%20%20%20marker_5f2822f4431a47b08ea32be5ca75c9a0.setIcon%28beautify_icon_0fbae6b9b7564c988c3fd0f2ea872bc3%29%3B%0A%20%20%20%20%20%20%20%20%0A%20%20%20%20%0A%20%20%20%20%20%20%20%20%20%20%20%20var%20marker_e0ed725d3ff64b97a3ba9b3dfc21aafa%20%3D%20L.marker%28%0A%20%20%20%20%20%20%20%20%20%20%20%20%20%20%20%20%5B31.7777778%2C%20119.16944439999999%5D%2C%0A%20%20%20%20%20%20%20%20%20%20%20%20%20%20%20%20%7B%7D%0A%20%20%20%20%20%20%20%20%20%20%20%20%29.addTo%28map_626b8ef4df324cb9ad29a0834e809070%29%3B%0A%20%20%20%20%20%20%20%20%0A%20%20%20%20%0A%20%20%20%20%20%20%20%20%20%20%20%20var%20beautify_icon_bf84744710f641a596628fcfceb7727d%20%3D%20new%20L.BeautifyIcon.icon%28%0A%20%20%20%20%20%20%20%20%20%20%20%20%20%20%20%20%7B%22backgroundColor%22%3A%20%22%23FFF%22%2C%20%22borderColor%22%3A%20%22blue%22%2C%20%22borderWidth%22%3A%201%2C%20%22innerIconStyle%22%3A%20%22margin-top%3A0px%3B%22%2C%20%22isAlphaNumericIcon%22%3A%20true%2C%20%22spin%22%3A%20false%2C%20%22text%22%3A%2027%2C%20%22textColor%22%3A%20%22red%22%7D%0A%20%20%20%20%20%20%20%20%20%20%20%20%29%0A%20%20%20%20%20%20%20%20%20%20%20%20marker_e0ed725d3ff64b97a3ba9b3dfc21aafa.setIcon%28beautify_icon_bf84744710f641a596628fcfceb7727d%29%3B%0A%20%20%20%20%20%20%20%20%0A%20%20%20%20%0A%20%20%20%20%20%20%20%20%20%20%20%20var%20marker_f971e5632baf471f8740e2e19ef62f26%20%3D%20L.marker%28%0A%20%20%20%20%20%20%20%20%20%20%20%20%20%20%20%20%5B33.785%2C%20113.1377778%5D%2C%0A%20%20%20%20%20%20%20%20%20%20%20%20%20%20%20%20%7B%7D%0A%20%20%20%20%20%20%20%20%20%20%20%20%29.addTo%28map_626b8ef4df324cb9ad29a0834e809070%29%3B%0A%20%20%20%20%20%20%20%20%0A%20%20%20%20%0A%20%20%20%20%20%20%20%20%20%20%20%20var%20beautify_icon_5757becbb191497b8a0a235459c9f99e%20%3D%20new%20L.BeautifyIcon.icon%28%0A%20%20%20%20%20%20%20%20%20%20%20%20%20%20%20%20%7B%22backgroundColor%22%3A%20%22%23FFF%22%2C%20%22borderColor%22%3A%20%22blue%22%2C%20%22borderWidth%22%3A%201%2C%20%22innerIconStyle%22%3A%20%22margin-top%3A0px%3B%22%2C%20%22isAlphaNumericIcon%22%3A%20true%2C%20%22spin%22%3A%20false%2C%20%22text%22%3A%2023%2C%20%22textColor%22%3A%20%22red%22%7D%0A%20%20%20%20%20%20%20%20%20%20%20%20%29%0A%20%20%20%20%20%20%20%20%20%20%20%20marker_f971e5632baf471f8740e2e19ef62f26.setIcon%28beautify_icon_5757becbb191497b8a0a235459c9f99e%29%3B%0A%20%20%20%20%20%20%20%20%0A%20%20%20%20%0A%20%20%20%20%20%20%20%20%20%20%20%20var%20marker_1a98a4b022884c65904849e62d9c118c%20%3D%20L.marker%28%0A%20%20%20%20%20%20%20%20%20%20%20%20%20%20%20%20%5B32.1655556%2C%20113.3983333%5D%2C%0A%20%20%20%20%20%20%20%20%20%20%20%20%20%20%20%20%7B%7D%0A%20%20%20%20%20%20%20%20%20%20%20%20%29.addTo%28map_626b8ef4df324cb9ad29a0834e809070%29%3B%0A%20%20%20%20%20%20%20%20%0A%20%20%20%20%0A%20%20%20%20%20%20%20%20%20%20%20%20var%20beautify_icon_7a6bcc0387844e9ab2f53fe399469d4b%20%3D%20new%20L.BeautifyIcon.icon%28%0A%20%20%20%20%20%20%20%20%20%20%20%20%20%20%20%20%7B%22backgroundColor%22%3A%20%22%23FFF%22%2C%20%22borderColor%22%3A%20%22blue%22%2C%20%22borderWidth%22%3A%201%2C%20%22innerIconStyle%22%3A%20%22margin-top%3A0px%3B%22%2C%20%22isAlphaNumericIcon%22%3A%20true%2C%20%22spin%22%3A%20false%2C%20%22text%22%3A%207%2C%20%22textColor%22%3A%20%22red%22%7D%0A%20%20%20%20%20%20%20%20%20%20%20%20%29%0A%20%20%20%20%20%20%20%20%20%20%20%20marker_1a98a4b022884c65904849e62d9c118c.setIcon%28beautify_icon_7a6bcc0387844e9ab2f53fe399469d4b%29%3B%0A%20%20%20%20%20%20%20%20%0A%20%20%20%20%0A%20%20%20%20%20%20%20%20%20%20%20%20var%20marker_55ad2aa7a90349c899849a2ed48caf8b%20%3D%20L.marker%28%0A%20%20%20%20%20%20%20%20%20%20%20%20%20%20%20%20%5B32.3922222%2C%20110.19027779999999%5D%2C%0A%20%20%20%20%20%20%20%20%20%20%20%20%20%20%20%20%7B%7D%0A%20%20%20%20%20%20%20%20%20%20%20%20%29.addTo%28map_626b8ef4df324cb9ad29a0834e809070%29%3B%0A%20%20%20%20%20%20%20%20%0A%20%20%20%20%0A%20%20%20%20%20%20%20%20%20%20%20%20var%20beautify_icon_299d22d0e88849a4862f9f13098d797e%20%3D%20new%20L.BeautifyIcon.icon%28%0A%20%20%20%20%20%20%20%20%20%20%20%20%20%20%20%20%7B%22backgroundColor%22%3A%20%22%23FFF%22%2C%20%22borderColor%22%3A%20%22blue%22%2C%20%22borderWidth%22%3A%201%2C%20%22innerIconStyle%22%3A%20%22margin-top%3A0px%3B%22%2C%20%22isAlphaNumericIcon%22%3A%20true%2C%20%22spin%22%3A%20false%2C%20%22text%22%3A%206%2C%20%22textColor%22%3A%20%22red%22%7D%0A%20%20%20%20%20%20%20%20%20%20%20%20%29%0A%20%20%20%20%20%20%20%20%20%20%20%20marker_55ad2aa7a90349c899849a2ed48caf8b.setIcon%28beautify_icon_299d22d0e88849a4862f9f13098d797e%29%3B%0A%20%20%20%20%20%20%20%20%0A%20%20%20%20%0A%20%20%20%20%20%20%20%20%20%20%20%20var%20marker_4a5b0f8f9d2d488fb19d207efaf7eea1%20%3D%20L.marker%28%0A%20%20%20%20%20%20%20%20%20%20%20%20%20%20%20%20%5B33.42972219999999%2C%20109.9244444%5D%2C%0A%20%20%20%20%20%20%20%20%20%20%20%20%20%20%20%20%7B%7D%0A%20%20%20%20%20%20%20%20%20%20%20%20%29.addTo%28map_626b8ef4df324cb9ad29a0834e809070%29%3B%0A%20%20%20%20%20%20%20%20%0A%20%20%20%20%0A%20%20%20%20%20%20%20%20%20%20%20%20var%20beautify_icon_36cef7a8ce214dd7af229d007b4a1413%20%3D%20new%20L.BeautifyIcon.icon%28%0A%20%20%20%20%20%20%20%20%20%20%20%20%20%20%20%20%7B%22backgroundColor%22%3A%20%22%23FFF%22%2C%20%22borderColor%22%3A%20%22blue%22%2C%20%22borderWidth%22%3A%201%2C%20%22innerIconStyle%22%3A%20%22margin-top%3A0px%3B%22%2C%20%22isAlphaNumericIcon%22%3A%20true%2C%20%22spin%22%3A%20false%2C%20%22text%22%3A%203%2C%20%22textColor%22%3A%20%22red%22%7D%0A%20%20%20%20%20%20%20%20%20%20%20%20%29%0A%20%20%20%20%20%20%20%20%20%20%20%20marker_4a5b0f8f9d2d488fb19d207efaf7eea1.setIcon%28beautify_icon_36cef7a8ce214dd7af229d007b4a1413%29%3B%0A%20%20%20%20%20%20%20%20%0A%20%20%20%20%0A%20%20%20%20%20%20%20%20%20%20%20%20var%20marker_0a51f00daa9645f39e6d7515d40034b3%20%3D%20L.marker%28%0A%20%20%20%20%20%20%20%20%20%20%20%20%20%20%20%20%5B35.7725%2C%20103.1575%5D%2C%0A%20%20%20%20%20%20%20%20%20%20%20%20%20%20%20%20%7B%7D%0A%20%20%20%20%20%20%20%20%20%20%20%20%29.addTo%28map_626b8ef4df324cb9ad29a0834e809070%29%3B%0A%20%20%20%20%20%20%20%20%0A%20%20%20%20%0A%20%20%20%20%20%20%20%20%20%20%20%20var%20beautify_icon_79563b78f2474cffb8df98061ae78312%20%3D%20new%20L.BeautifyIcon.icon%28%0A%20%20%20%20%20%20%20%20%20%20%20%20%20%20%20%20%7B%22backgroundColor%22%3A%20%22%23FFF%22%2C%20%22borderColor%22%3A%20%22blue%22%2C%20%22borderWidth%22%3A%201%2C%20%22innerIconStyle%22%3A%20%22margin-top%3A0px%3B%22%2C%20%22isAlphaNumericIcon%22%3A%20true%2C%20%22spin%22%3A%20false%2C%20%22text%22%3A%2028%2C%20%22textColor%22%3A%20%22red%22%7D%0A%20%20%20%20%20%20%20%20%20%20%20%20%29%0A%20%20%20%20%20%20%20%20%20%20%20%20marker_0a51f00daa9645f39e6d7515d40034b3.setIcon%28beautify_icon_79563b78f2474cffb8df98061ae78312%29%3B%0A%20%20%20%20%20%20%20%20%0A%20%20%20%20%0A%20%20%20%20%20%20%20%20%20%20%20%20var%20marker_b9c798e914944e6da14660d4354a334d%20%3D%20L.marker%28%0A%20%20%20%20%20%20%20%20%20%20%20%20%20%20%20%20%5B39.3991667%2C%20111.76388890000001%5D%2C%0A%20%20%20%20%20%20%20%20%20%20%20%20%20%20%20%20%7B%7D%0A%20%20%20%20%20%20%20%20%20%20%20%20%29.addTo%28map_626b8ef4df324cb9ad29a0834e809070%29%3B%0A%20%20%20%20%20%20%20%20%0A%20%20%20%20%0A%20%20%20%20%20%20%20%20%20%20%20%20var%20beautify_icon_2a93ec92757347ca9d59da4763f13d22%20%3D%20new%20L.BeautifyIcon.icon%28%0A%20%20%20%20%20%20%20%20%20%20%20%20%20%20%20%20%7B%22backgroundColor%22%3A%20%22%23FFF%22%2C%20%22borderColor%22%3A%20%22blue%22%2C%20%22borderWidth%22%3A%201%2C%20%22innerIconStyle%22%3A%20%22margin-top%3A0px%3B%22%2C%20%22isAlphaNumericIcon%22%3A%20true%2C%20%22spin%22%3A%20false%2C%20%22text%22%3A%2018%2C%20%22textColor%22%3A%20%22red%22%7D%0A%20%20%20%20%20%20%20%20%20%20%20%20%29%0A%20%20%20%20%20%20%20%20%20%20%20%20marker_b9c798e914944e6da14660d4354a334d.setIcon%28beautify_icon_2a93ec92757347ca9d59da4763f13d22%29%3B%0A%20%20%20%20%20%20%20%20%0A%20%20%20%20%0A%20%20%20%20%20%20%20%20%20%20%20%20var%20marker_c9a3e378f8a8479ba23a144400729216%20%3D%20L.marker%28%0A%20%20%20%20%20%20%20%20%20%20%20%20%20%20%20%20%5B29.1988889%2C%20120.1947222%5D%2C%0A%20%20%20%20%20%20%20%20%20%20%20%20%20%20%20%20%7B%7D%0A%20%20%20%20%20%20%20%20%20%20%20%20%29.addTo%28map_626b8ef4df324cb9ad29a0834e809070%29%3B%0A%20%20%20%20%20%20%20%20%0A%20%20%20%20%0A%20%20%20%20%20%20%20%20%20%20%20%20var%20beautify_icon_05c5c5ec49294151821eacff877b2df5%20%3D%20new%20L.BeautifyIcon.icon%28%0A%20%20%20%20%20%20%20%20%20%20%20%20%20%20%20%20%7B%22backgroundColor%22%3A%20%22%23FFF%22%2C%20%22borderColor%22%3A%20%22blue%22%2C%20%22borderWidth%22%3A%201%2C%20%22innerIconStyle%22%3A%20%22margin-top%3A0px%3B%22%2C%20%22isAlphaNumericIcon%22%3A%20true%2C%20%22spin%22%3A%20false%2C%20%22text%22%3A%2026%2C%20%22textColor%22%3A%20%22red%22%7D%0A%20%20%20%20%20%20%20%20%20%20%20%20%29%0A%20%20%20%20%20%20%20%20%20%20%20%20marker_c9a3e378f8a8479ba23a144400729216.setIcon%28beautify_icon_05c5c5ec49294151821eacff877b2df5%29%3B%0A%20%20%20%20%20%20%20%20%0A%20%20%20%20%0A%20%20%20%20%20%20%20%20%20%20%20%20var%20marker_c885d28c765a4bc2977c28fc32e796b1%20%3D%20L.marker%28%0A%20%20%20%20%20%20%20%20%20%20%20%20%20%20%20%20%5B22.516388900000003%2C%20114.5394444%5D%2C%0A%20%20%20%20%20%20%20%20%20%20%20%20%20%20%20%20%7B%7D%0A%20%20%20%20%20%20%20%20%20%20%20%20%29.addTo%28map_626b8ef4df324cb9ad29a0834e809070%29%3B%0A%20%20%20%20%20%20%20%20%0A%20%20%20%20%0A%20%20%20%20%20%20%20%20%20%20%20%20var%20beautify_icon_403e16cf6ec8445881de951610cc6d20%20%3D%20new%20L.BeautifyIcon.icon%28%0A%20%20%20%20%20%20%20%20%20%20%20%20%20%20%20%20%7B%22backgroundColor%22%3A%20%22%23FFF%22%2C%20%22borderColor%22%3A%20%22blue%22%2C%20%22borderWidth%22%3A%201%2C%20%22innerIconStyle%22%3A%20%22margin-top%3A0px%3B%22%2C%20%22isAlphaNumericIcon%22%3A%20true%2C%20%22spin%22%3A%20false%2C%20%22text%22%3A%202%2C%20%22textColor%22%3A%20%22red%22%7D%0A%20%20%20%20%20%20%20%20%20%20%20%20%29%0A%20%20%20%20%20%20%20%20%20%20%20%20marker_c885d28c765a4bc2977c28fc32e796b1.setIcon%28beautify_icon_403e16cf6ec8445881de951610cc6d20%29%3B%0A%20%20%20%20%20%20%20%20%0A%20%20%20%20%0A%20%20%20%20%20%20%20%20%20%20%20%20var%20marker_75eb38870e7b479e99c7604a3b2f2d80%20%3D%20L.marker%28%0A%20%20%20%20%20%20%20%20%20%20%20%20%20%20%20%20%5B24.983333299999998%2C%20107.9833333%5D%2C%0A%20%20%20%20%20%20%20%20%20%20%20%20%20%20%20%20%7B%7D%0A%20%20%20%20%20%20%20%20%20%20%20%20%29.addTo%28map_626b8ef4df324cb9ad29a0834e809070%29%3B%0A%20%20%20%20%20%20%20%20%0A%20%20%20%20%0A%20%20%20%20%20%20%20%20%20%20%20%20var%20beautify_icon_2969bac7ac6e429e844cc1c6c4f8aeb7%20%3D%20new%20L.BeautifyIcon.icon%28%0A%20%20%20%20%20%20%20%20%20%20%20%20%20%20%20%20%7B%22backgroundColor%22%3A%20%22%23FFF%22%2C%20%22borderColor%22%3A%20%22blue%22%2C%20%22borderWidth%22%3A%201%2C%20%22innerIconStyle%22%3A%20%22margin-top%3A0px%3B%22%2C%20%22isAlphaNumericIcon%22%3A%20true%2C%20%22spin%22%3A%20false%2C%20%22text%22%3A%209%2C%20%22textColor%22%3A%20%22red%22%7D%0A%20%20%20%20%20%20%20%20%20%20%20%20%29%0A%20%20%20%20%20%20%20%20%20%20%20%20marker_75eb38870e7b479e99c7604a3b2f2d80.setIcon%28beautify_icon_2969bac7ac6e429e844cc1c6c4f8aeb7%29%3B%0A%20%20%20%20%20%20%20%20%0A%20%20%20%20%0A%20%20%20%20%20%20%20%20%20%20%20%20var%20marker_1b31797e191042b1b05148a5a2b8d4e6%20%3D%20L.marker%28%0A%20%20%20%20%20%20%20%20%20%20%20%20%20%20%20%20%5B42.6788889%2C%20119.6763889%5D%2C%0A%20%20%20%20%20%20%20%20%20%20%20%20%20%20%20%20%7B%7D%0A%20%20%20%20%20%20%20%20%20%20%20%20%29.addTo%28map_626b8ef4df324cb9ad29a0834e809070%29%3B%0A%20%20%20%20%20%20%20%20%0A%20%20%20%20%0A%20%20%20%20%20%20%20%20%20%20%20%20var%20beautify_icon_84dc07b35fb64043b347e207752f7d65%20%3D%20new%20L.BeautifyIcon.icon%28%0A%20%20%20%20%20%20%20%20%20%20%20%20%20%20%20%20%7B%22backgroundColor%22%3A%20%22%23FFF%22%2C%20%22borderColor%22%3A%20%22blue%22%2C%20%22borderWidth%22%3A%201%2C%20%22innerIconStyle%22%3A%20%22margin-top%3A0px%3B%22%2C%20%22isAlphaNumericIcon%22%3A%20true%2C%20%22spin%22%3A%20false%2C%20%22text%22%3A%2015%2C%20%22textColor%22%3A%20%22red%22%7D%0A%20%20%20%20%20%20%20%20%20%20%20%20%29%0A%20%20%20%20%20%20%20%20%20%20%20%20marker_1b31797e191042b1b05148a5a2b8d4e6.setIcon%28beautify_icon_84dc07b35fb64043b347e207752f7d65%29%3B%0A%20%20%20%20%20%20%20%20%0A%20%20%20%20%0A%20%20%20%20%20%20%20%20%20%20%20%20var%20marker_ff8f7f4fb08147c2b1ab7defe9549b0b%20%3D%20L.marker%28%0A%20%20%20%20%20%20%20%20%20%20%20%20%20%20%20%20%5B42.755%2C%20119.6841667%5D%2C%0A%20%20%20%20%20%20%20%20%20%20%20%20%20%20%20%20%7B%7D%0A%20%20%20%20%20%20%20%20%20%20%20%20%29.addTo%28map_626b8ef4df324cb9ad29a0834e809070%29%3B%0A%20%20%20%20%20%20%20%20%0A%20%20%20%20%0A%20%20%20%20%20%20%20%20%20%20%20%20var%20beautify_icon_5d946a23fcf94644b31f02335dc91714%20%3D%20new%20L.BeautifyIcon.icon%28%0A%20%20%20%20%20%20%20%20%20%20%20%20%20%20%20%20%7B%22backgroundColor%22%3A%20%22%23FFF%22%2C%20%22borderColor%22%3A%20%22blue%22%2C%20%22borderWidth%22%3A%201%2C%20%22innerIconStyle%22%3A%20%22margin-top%3A0px%3B%22%2C%20%22isAlphaNumericIcon%22%3A%20true%2C%20%22spin%22%3A%20false%2C%20%22text%22%3A%2010%2C%20%22textColor%22%3A%20%22red%22%7D%0A%20%20%20%20%20%20%20%20%20%20%20%20%29%0A%20%20%20%20%20%20%20%20%20%20%20%20marker_ff8f7f4fb08147c2b1ab7defe9549b0b.setIcon%28beautify_icon_5d946a23fcf94644b31f02335dc91714%29%3B%0A%20%20%20%20%20%20%20%20%0A%20%20%20%20%0A%20%20%20%20%20%20%20%20%20%20%20%20var%20marker_d6b24134bbb04e6d9a895d9f9e3a1266%20%3D%20L.marker%28%0A%20%20%20%20%20%20%20%20%20%20%20%20%20%20%20%20%5B29.5847222%2C%20105.23%5D%2C%0A%20%20%20%20%20%20%20%20%20%20%20%20%20%20%20%20%7B%7D%0A%20%20%20%20%20%20%20%20%20%20%20%20%29.addTo%28map_626b8ef4df324cb9ad29a0834e809070%29%3B%0A%20%20%20%20%20%20%20%20%0A%20%20%20%20%0A%20%20%20%20%20%20%20%20%20%20%20%20var%20beautify_icon_c7d40702874642c09dc3a8f51b9cc9bd%20%3D%20new%20L.BeautifyIcon.icon%28%0A%20%20%20%20%20%20%20%20%20%20%20%20%20%20%20%20%7B%22backgroundColor%22%3A%20%22%23FFF%22%2C%20%22borderColor%22%3A%20%22blue%22%2C%20%22borderWidth%22%3A%201%2C%20%22innerIconStyle%22%3A%20%22margin-top%3A0px%3B%22%2C%20%22isAlphaNumericIcon%22%3A%20true%2C%20%22spin%22%3A%20false%2C%20%22text%22%3A%2013%2C%20%22textColor%22%3A%20%22red%22%7D%0A%20%20%20%20%20%20%20%20%20%20%20%20%29%0A%20%20%20%20%20%20%20%20%20%20%20%20marker_d6b24134bbb04e6d9a895d9f9e3a1266.setIcon%28beautify_icon_c7d40702874642c09dc3a8f51b9cc9bd%29%3B%0A%20%20%20%20%20%20%20%20%0A%20%20%20%20%0A%20%20%20%20%20%20%20%20%20%20%20%20var%20marker_734813fb7b6b472988b4d864ca85c9c7%20%3D%20L.marker%28%0A%20%20%20%20%20%20%20%20%20%20%20%20%20%20%20%20%5B28.6830556%2C%20107.49%5D%2C%0A%20%20%20%20%20%20%20%20%20%20%20%20%20%20%20%20%7B%7D%0A%20%20%20%20%20%20%20%20%20%20%20%20%29.addTo%28map_626b8ef4df324cb9ad29a0834e809070%29%3B%0A%20%20%20%20%20%20%20%20%0A%20%20%20%20%0A%20%20%20%20%20%20%20%20%20%20%20%20var%20beautify_icon_02264b36fad8444eb91ae33c0ef5403d%20%3D%20new%20L.BeautifyIcon.icon%28%0A%20%20%20%20%20%20%20%20%20%20%20%20%20%20%20%20%7B%22backgroundColor%22%3A%20%22%23FFF%22%2C%20%22borderColor%22%3A%20%22blue%22%2C%20%22borderWidth%22%3A%201%2C%20%22innerIconStyle%22%3A%20%22margin-top%3A0px%3B%22%2C%20%22isAlphaNumericIcon%22%3A%20true%2C%20%22spin%22%3A%20false%2C%20%22text%22%3A%2014%2C%20%22textColor%22%3A%20%22red%22%7D%0A%20%20%20%20%20%20%20%20%20%20%20%20%29%0A%20%20%20%20%20%20%20%20%20%20%20%20marker_734813fb7b6b472988b4d864ca85c9c7.setIcon%28beautify_icon_02264b36fad8444eb91ae33c0ef5403d%29%3B%0A%20%20%20%20%20%20%20%20%0A%20%20%20%20%0A%20%20%20%20%20%20%20%20%20%20%20%20var%20marker_08a87d5e98f1440ca00e9f3c8c723383%20%3D%20L.marker%28%0A%20%20%20%20%20%20%20%20%20%20%20%20%20%20%20%20%5B36.2044444%2C%20116.5913889%5D%2C%0A%20%20%20%20%20%20%20%20%20%20%20%20%20%20%20%20%7B%7D%0A%20%20%20%20%20%20%20%20%20%20%20%20%29.addTo%28map_626b8ef4df324cb9ad29a0834e809070%29%3B%0A%20%20%20%20%20%20%20%20%0A%20%20%20%20%0A%20%20%20%20%20%20%20%20%20%20%20%20var%20beautify_icon_431f1a25047a44e48f09b189278122fe%20%3D%20new%20L.BeautifyIcon.icon%28%0A%20%20%20%20%20%20%20%20%20%20%20%20%20%20%20%20%7B%22backgroundColor%22%3A%20%22%23FFF%22%2C%20%22borderColor%22%3A%20%22blue%22%2C%20%22borderWidth%22%3A%201%2C%20%22innerIconStyle%22%3A%20%22margin-top%3A0px%3B%22%2C%20%22isAlphaNumericIcon%22%3A%20true%2C%20%22spin%22%3A%20false%2C%20%22text%22%3A%205%2C%20%22textColor%22%3A%20%22red%22%7D%0A%20%20%20%20%20%20%20%20%20%20%20%20%29%0A%20%20%20%20%20%20%20%20%20%20%20%20marker_08a87d5e98f1440ca00e9f3c8c723383.setIcon%28beautify_icon_431f1a25047a44e48f09b189278122fe%29%3B%0A%20%20%20%20%20%20%20%20%0A%20%20%20%20%0A%20%20%20%20%20%20%20%20%20%20%20%20var%20marker_7737fec3a47d425e9b0ef9b5f6ed2322%20%3D%20L.marker%28%0A%20%20%20%20%20%20%20%20%20%20%20%20%20%20%20%20%5B30.735%2C%20121.0736111%5D%2C%0A%20%20%20%20%20%20%20%20%20%20%20%20%20%20%20%20%7B%7D%0A%20%20%20%20%20%20%20%20%20%20%20%20%29.addTo%28map_626b8ef4df324cb9ad29a0834e809070%29%3B%0A%20%20%20%20%20%20%20%20%0A%20%20%20%20%0A%20%20%20%20%20%20%20%20%20%20%20%20var%20beautify_icon_22a4518c7b104ab4a85a43e0fafb9d7f%20%3D%20new%20L.BeautifyIcon.icon%28%0A%20%20%20%20%20%20%20%20%20%20%20%20%20%20%20%20%7B%22backgroundColor%22%3A%20%22%23FFF%22%2C%20%22borderColor%22%3A%20%22blue%22%2C%20%22borderWidth%22%3A%201%2C%20%22innerIconStyle%22%3A%20%22margin-top%3A0px%3B%22%2C%20%22isAlphaNumericIcon%22%3A%20true%2C%20%22spin%22%3A%20false%2C%20%22text%22%3A%2017%2C%20%22textColor%22%3A%20%22red%22%7D%0A%20%20%20%20%20%20%20%20%20%20%20%20%29%0A%20%20%20%20%20%20%20%20%20%20%20%20marker_7737fec3a47d425e9b0ef9b5f6ed2322.setIcon%28beautify_icon_22a4518c7b104ab4a85a43e0fafb9d7f%29%3B%0A%20%20%20%20%20%20%20%20%0A%20%20%20%20%0A%20%20%20%20%20%20%20%20%20%20%20%20var%20marker_c1ccb096e81e48b88c1979854b56a6c3%20%3D%20L.marker%28%0A%20%20%20%20%20%20%20%20%20%20%20%20%20%20%20%20%5B30.3033333%2C%20121.9597222%5D%2C%0A%20%20%20%20%20%20%20%20%20%20%20%20%20%20%20%20%7B%7D%0A%20%20%20%20%20%20%20%20%20%20%20%20%29.addTo%28map_626b8ef4df324cb9ad29a0834e809070%29%3B%0A%20%20%20%20%20%20%20%20%0A%20%20%20%20%0A%20%20%20%20%20%20%20%20%20%20%20%20var%20beautify_icon_3e91915b4a6949a48bc9390073dabe50%20%3D%20new%20L.BeautifyIcon.icon%28%0A%20%20%20%20%20%20%20%20%20%20%20%20%20%20%20%20%7B%22backgroundColor%22%3A%20%22%23FFF%22%2C%20%22borderColor%22%3A%20%22blue%22%2C%20%22borderWidth%22%3A%201%2C%20%22innerIconStyle%22%3A%20%22margin-top%3A0px%3B%22%2C%20%22isAlphaNumericIcon%22%3A%20true%2C%20%22spin%22%3A%20false%2C%20%22text%22%3A%2016%2C%20%22textColor%22%3A%20%22red%22%7D%0A%20%20%20%20%20%20%20%20%20%20%20%20%29%0A%20%20%20%20%20%20%20%20%20%20%20%20marker_c1ccb096e81e48b88c1979854b56a6c3.setIcon%28beautify_icon_3e91915b4a6949a48bc9390073dabe50%29%3B%0A%20%20%20%20%20%20%20%20%0A%20%20%20%20%0A%20%20%20%20%20%20%20%20%20%20%20%20var%20marker_9b7af4df30914809997584f5881d962b%20%3D%20L.marker%28%0A%20%20%20%20%20%20%20%20%20%20%20%20%20%20%20%20%5B28.4158333%2C%20121.3741667%5D%2C%0A%20%20%20%20%20%20%20%20%20%20%20%20%20%20%20%20%7B%7D%0A%20%20%20%20%20%20%20%20%20%20%20%20%29.addTo%28map_626b8ef4df324cb9ad29a0834e809070%29%3B%0A%20%20%20%20%20%20%20%20%0A%20%20%20%20%0A%20%20%20%20%20%20%20%20%20%20%20%20var%20beautify_icon_347570b667d24f0eb35647b5677d99e1%20%3D%20new%20L.BeautifyIcon.icon%28%0A%20%20%20%20%20%20%20%20%20%20%20%20%20%20%20%20%7B%22backgroundColor%22%3A%20%22%23FFF%22%2C%20%22borderColor%22%3A%20%22blue%22%2C%20%22borderWidth%22%3A%201%2C%20%22innerIconStyle%22%3A%20%22margin-top%3A0px%3B%22%2C%20%22isAlphaNumericIcon%22%3A%20true%2C%20%22spin%22%3A%20false%2C%20%22text%22%3A%2012%2C%20%22textColor%22%3A%20%22red%22%7D%0A%20%20%20%20%20%20%20%20%20%20%20%20%29%0A%20%20%20%20%20%20%20%20%20%20%20%20marker_9b7af4df30914809997584f5881d962b.setIcon%28beautify_icon_347570b667d24f0eb35647b5677d99e1%29%3B%0A%20%20%20%20%20%20%20%20%0A%20%20%20%20%0A%20%20%20%20%20%20%20%20%20%20%20%20var%20marker_af65afb702ac4e8fb7ae9548f602cd85%20%3D%20L.marker%28%0A%20%20%20%20%20%20%20%20%20%20%20%20%20%20%20%20%5B24.8775%2C%20116.5902778%5D%2C%0A%20%20%20%20%20%20%20%20%20%20%20%20%20%20%20%20%7B%7D%0A%20%20%20%20%20%20%20%20%20%20%20%20%29.addTo%28map_626b8ef4df324cb9ad29a0834e809070%29%3B%0A%20%20%20%20%20%20%20%20%0A%20%20%20%20%0A%20%20%20%20%20%20%20%20%20%20%20%20var%20beautify_icon_2e7da47727c34a178d4dd9a38d65e88f%20%3D%20new%20L.BeautifyIcon.icon%28%0A%20%20%20%20%20%20%20%20%20%20%20%20%20%20%20%20%7B%22backgroundColor%22%3A%20%22%23FFF%22%2C%20%22borderColor%22%3A%20%22blue%22%2C%20%22borderWidth%22%3A%201%2C%20%22innerIconStyle%22%3A%20%22margin-top%3A0px%3B%22%2C%20%22isAlphaNumericIcon%22%3A%20true%2C%20%22spin%22%3A%20false%2C%20%22text%22%3A%2019%2C%20%22textColor%22%3A%20%22red%22%7D%0A%20%20%20%20%20%20%20%20%20%20%20%20%29%0A%20%20%20%20%20%20%20%20%20%20%20%20marker_af65afb702ac4e8fb7ae9548f602cd85.setIcon%28beautify_icon_2e7da47727c34a178d4dd9a38d65e88f%29%3B%0A%20%20%20%20%20%20%20%20%0A%20%20%20%20%0A%20%20%20%20%20%20%20%20%20%20%20%20var%20marker_0f35e709d76d4e9a89effc03cb9d377b%20%3D%20L.marker%28%0A%20%20%20%20%20%20%20%20%20%20%20%20%20%20%20%20%5B23.194444400000002%2C%20109.57611109999999%5D%2C%0A%20%20%20%20%20%20%20%20%20%20%20%20%20%20%20%20%7B%7D%0A%20%20%20%20%20%20%20%20%20%20%20%20%29.addTo%28map_626b8ef4df324cb9ad29a0834e809070%29%3B%0A%20%20%20%20%20%20%20%20%0A%20%20%20%20%0A%20%20%20%20%20%20%20%20%20%20%20%20var%20beautify_icon_3e47382d784c48ca9eb8f7d0b8c2a743%20%3D%20new%20L.BeautifyIcon.icon%28%0A%20%20%20%20%20%20%20%20%20%20%20%20%20%20%20%20%7B%22backgroundColor%22%3A%20%22%23FFF%22%2C%20%22borderColor%22%3A%20%22blue%22%2C%20%22borderWidth%22%3A%201%2C%20%22innerIconStyle%22%3A%20%22margin-top%3A0px%3B%22%2C%20%22isAlphaNumericIcon%22%3A%20true%2C%20%22spin%22%3A%20false%2C%20%22text%22%3A%2029%2C%20%22textColor%22%3A%20%22red%22%7D%0A%20%20%20%20%20%20%20%20%20%20%20%20%29%0A%20%20%20%20%20%20%20%20%20%20%20%20marker_0f35e709d76d4e9a89effc03cb9d377b.setIcon%28beautify_icon_3e47382d784c48ca9eb8f7d0b8c2a743%29%3B%0A%20%20%20%20%20%20%20%20%0A%20%20%20%20%0A%20%20%20%20%20%20%20%20%20%20%20%20var%20marker_da556f4fd87c49bca1ca7bc119e1c8ce%20%3D%20L.marker%28%0A%20%20%20%20%20%20%20%20%20%20%20%20%20%20%20%20%5B27.7986111%2C%20119.5211111%5D%2C%0A%20%20%20%20%20%20%20%20%20%20%20%20%20%20%20%20%7B%7D%0A%20%20%20%20%20%20%20%20%20%20%20%20%29.addTo%28map_626b8ef4df324cb9ad29a0834e809070%29%3B%0A%20%20%20%20%20%20%20%20%0A%20%20%20%20%0A%20%20%20%20%20%20%20%20%20%20%20%20var%20beautify_icon_359c06d6b7b847e7953693ab90a6abe7%20%3D%20new%20L.BeautifyIcon.icon%28%0A%20%20%20%20%20%20%20%20%20%20%20%20%20%20%20%20%7B%22backgroundColor%22%3A%20%22%23FFF%22%2C%20%22borderColor%22%3A%20%22blue%22%2C%20%22borderWidth%22%3A%201%2C%20%22innerIconStyle%22%3A%20%22margin-top%3A0px%3B%22%2C%20%22isAlphaNumericIcon%22%3A%20true%2C%20%22spin%22%3A%20false%2C%20%22text%22%3A%2021%2C%20%22textColor%22%3A%20%22red%22%7D%0A%20%20%20%20%20%20%20%20%20%20%20%20%29%0A%20%20%20%20%20%20%20%20%20%20%20%20marker_da556f4fd87c49bca1ca7bc119e1c8ce.setIcon%28beautify_icon_359c06d6b7b847e7953693ab90a6abe7%29%3B%0A%20%20%20%20%20%20%20%20%0A%20%20%20%20%0A%20%20%20%20%20%20%20%20%20%20%20%20var%20marker_27941fc4d835456ca42101fc004c74e1%20%3D%20L.marker%28%0A%20%20%20%20%20%20%20%20%20%20%20%20%20%20%20%20%5B24.8977778%2C%20117.34222220000001%5D%2C%0A%20%20%20%20%20%20%20%20%20%20%20%20%20%20%20%20%7B%7D%0A%20%20%20%20%20%20%20%20%20%20%20%20%29.addTo%28map_626b8ef4df324cb9ad29a0834e809070%29%3B%0A%20%20%20%20%20%20%20%20%0A%20%20%20%20%0A%20%20%20%20%20%20%20%20%20%20%20%20var%20beautify_icon_9fdf9948efe9400e97459e82017a8c75%20%3D%20new%20L.BeautifyIcon.icon%28%0A%20%20%20%20%20%20%20%20%20%20%20%20%20%20%20%20%7B%22backgroundColor%22%3A%20%22%23FFF%22%2C%20%22borderColor%22%3A%20%22blue%22%2C%20%22borderWidth%22%3A%201%2C%20%22innerIconStyle%22%3A%20%22margin-top%3A0px%3B%22%2C%20%22isAlphaNumericIcon%22%3A%20true%2C%20%22spin%22%3A%20false%2C%20%22text%22%3A%204%2C%20%22textColor%22%3A%20%22red%22%7D%0A%20%20%20%20%20%20%20%20%20%20%20%20%29%0A%20%20%20%20%20%20%20%20%20%20%20%20marker_27941fc4d835456ca42101fc004c74e1.setIcon%28beautify_icon_9fdf9948efe9400e97459e82017a8c75%29%3B%0A%20%20%20%20%20%20%20%20%0A%20%20%20%20%0A%20%20%20%20%20%20%20%20%20%20%20%20var%20marker_d9a325c462374b61b4b3aa0dc4fc5de3%20%3D%20L.marker%28%0A%20%20%20%20%20%20%20%20%20%20%20%20%20%20%20%20%5B23.670833299999998%2C%20112.88083329999999%5D%2C%0A%20%20%20%20%20%20%20%20%20%20%20%20%20%20%20%20%7B%7D%0A%20%20%20%20%20%20%20%20%20%20%20%20%29.addTo%28map_626b8ef4df324cb9ad29a0834e809070%29%3B%0A%20%20%20%20%20%20%20%20%0A%20%20%20%20%0A%20%20%20%20%20%20%20%20%20%20%20%20var%20beautify_icon_1488cc110a5a4fee9014d8fc7d56ddb1%20%3D%20new%20L.BeautifyIcon.icon%28%0A%20%20%20%20%20%20%20%20%20%20%20%20%20%20%20%20%7B%22backgroundColor%22%3A%20%22%23FFF%22%2C%20%22borderColor%22%3A%20%22blue%22%2C%20%22borderWidth%22%3A%201%2C%20%22innerIconStyle%22%3A%20%22margin-top%3A0px%3B%22%2C%20%22isAlphaNumericIcon%22%3A%20true%2C%20%22spin%22%3A%20false%2C%20%22text%22%3A%2020%2C%20%22textColor%22%3A%20%22red%22%7D%0A%20%20%20%20%20%20%20%20%20%20%20%20%29%0A%20%20%20%20%20%20%20%20%20%20%20%20marker_d9a325c462374b61b4b3aa0dc4fc5de3.setIcon%28beautify_icon_1488cc110a5a4fee9014d8fc7d56ddb1%29%3B%0A%20%20%20%20%20%20%20%20%0A%20%20%20%20%0A%20%20%20%20%20%20%20%20%20%20%20%20var%20marker_7c7eb761a98143739abae139feba766c%20%3D%20L.marker%28%0A%20%20%20%20%20%20%20%20%20%20%20%20%20%20%20%20%5B23.7%2C%20109.2833333%5D%2C%0A%20%20%20%20%20%20%20%20%20%20%20%20%20%20%20%20%7B%7D%0A%20%20%20%20%20%20%20%20%20%20%20%20%29.addTo%28map_626b8ef4df324cb9ad29a0834e809070%29%3B%0A%20%20%20%20%20%20%20%20%0A%20%20%20%20%0A%20%20%20%20%20%20%20%20%20%20%20%20var%20beautify_icon_3a555150a52e4edeb95566d6b09d3d70%20%3D%20new%20L.BeautifyIcon.icon%28%0A%20%20%20%20%20%20%20%20%20%20%20%20%20%20%20%20%7B%22backgroundColor%22%3A%20%22%23FFF%22%2C%20%22borderColor%22%3A%20%22blue%22%2C%20%22borderWidth%22%3A%201%2C%20%22innerIconStyle%22%3A%20%22margin-top%3A0px%3B%22%2C%20%22isAlphaNumericIcon%22%3A%20true%2C%20%22spin%22%3A%20false%2C%20%22text%22%3A%201%2C%20%22textColor%22%3A%20%22red%22%7D%0A%20%20%20%20%20%20%20%20%20%20%20%20%29%0A%20%20%20%20%20%20%20%20%20%20%20%20marker_7c7eb761a98143739abae139feba766c.setIcon%28beautify_icon_3a555150a52e4edeb95566d6b09d3d70%29%3B%0A%20%20%20%20%20%20%20%20%0A%20%20%20%20%0A%20%20%20%20%20%20%20%20%20%20%20%20var%20marker_7e9dd899ef6d4324b94d204f292f79b3%20%3D%20L.marker%28%0A%20%20%20%20%20%20%20%20%20%20%20%20%20%20%20%20%5B35.8333333%2C%20111.215%5D%2C%0A%20%20%20%20%20%20%20%20%20%20%20%20%20%20%20%20%7B%7D%0A%20%20%20%20%20%20%20%20%20%20%20%20%29.addTo%28map_626b8ef4df324cb9ad29a0834e809070%29%3B%0A%20%20%20%20%20%20%20%20%0A%20%20%20%20%0A%20%20%20%20%20%20%20%20%20%20%20%20var%20beautify_icon_7096355ace7e4a8b996db1e360c05d22%20%3D%20new%20L.BeautifyIcon.icon%28%0A%20%20%20%20%20%20%20%20%20%20%20%20%20%20%20%20%7B%22backgroundColor%22%3A%20%22%23FFF%22%2C%20%22borderColor%22%3A%20%22blue%22%2C%20%22borderWidth%22%3A%201%2C%20%22innerIconStyle%22%3A%20%22margin-top%3A0px%3B%22%2C%20%22isAlphaNumericIcon%22%3A%20true%2C%20%22spin%22%3A%20false%2C%20%22text%22%3A%2022%2C%20%22textColor%22%3A%20%22red%22%7D%0A%20%20%20%20%20%20%20%20%20%20%20%20%29%0A%20%20%20%20%20%20%20%20%20%20%20%20marker_7e9dd899ef6d4324b94d204f292f79b3.setIcon%28beautify_icon_7096355ace7e4a8b996db1e360c05d22%29%3B%0A%20%20%20%20%20%20%20%20%0A%20%20%20%20%0A%20%20%20%20%20%20%20%20%20%20%20%20var%20marker_a34920deba7143e88376e4bd221da89f%20%3D%20L.marker%28%0A%20%20%20%20%20%20%20%20%20%20%20%20%20%20%20%20%5B38.673333299999996%2C%20117.3563889%5D%2C%0A%20%20%20%20%20%20%20%20%20%20%20%20%20%20%20%20%7B%7D%0A%20%20%20%20%20%20%20%20%20%20%20%20%29.addTo%28map_626b8ef4df324cb9ad29a0834e809070%29%3B%0A%20%20%20%20%20%20%20%20%0A%20%20%20%20%0A%20%20%20%20%20%20%20%20%20%20%20%20var%20beautify_icon_c0c6a81235d645ec962ba05961443243%20%3D%20new%20L.BeautifyIcon.icon%28%0A%20%20%20%20%20%20%20%20%20%20%20%20%20%20%20%20%7B%22backgroundColor%22%3A%20%22%23FFF%22%2C%20%22borderColor%22%3A%20%22blue%22%2C%20%22borderWidth%22%3A%201%2C%20%22innerIconStyle%22%3A%20%22margin-top%3A0px%3B%22%2C%20%22isAlphaNumericIcon%22%3A%20true%2C%20%22spin%22%3A%20false%2C%20%22text%22%3A%208%2C%20%22textColor%22%3A%20%22red%22%7D%0A%20%20%20%20%20%20%20%20%20%20%20%20%29%0A%20%20%20%20%20%20%20%20%20%20%20%20marker_a34920deba7143e88376e4bd221da89f.setIcon%28beautify_icon_c0c6a81235d645ec962ba05961443243%29%3B%0A%20%20%20%20%20%20%20%20%0A%20%20%20%20%0A%20%20%20%20%20%20%20%20%20%20%20%20var%20marker_9959d0fe6de24ea3bc684b19ba86e75d%20%3D%20L.marker%28%0A%20%20%20%20%20%20%20%20%20%20%20%20%20%20%20%20%5B33.05%2C%20116.8166667%5D%2C%0A%20%20%20%20%20%20%20%20%20%20%20%20%20%20%20%20%7B%7D%0A%20%20%20%20%20%20%20%20%20%20%20%20%29.addTo%28map_626b8ef4df324cb9ad29a0834e809070%29%3B%0A%20%20%20%20%20%20%20%20%0A%20%20%20%20%0A%20%20%20%20%20%20%20%20%20%20%20%20var%20beautify_icon_c7e45ca22f0e41528418ae55337b6741%20%3D%20new%20L.BeautifyIcon.icon%28%0A%20%20%20%20%20%20%20%20%20%20%20%20%20%20%20%20%7B%22backgroundColor%22%3A%20%22%23FFF%22%2C%20%22borderColor%22%3A%20%22blue%22%2C%20%22borderWidth%22%3A%201%2C%20%22innerIconStyle%22%3A%20%22margin-top%3A0px%3B%22%2C%20%22isAlphaNumericIcon%22%3A%20true%2C%20%22spin%22%3A%20false%2C%20%22text%22%3A%2011%2C%20%22textColor%22%3A%20%22red%22%7D%0A%20%20%20%20%20%20%20%20%20%20%20%20%29%0A%20%20%20%20%20%20%20%20%20%20%20%20marker_9959d0fe6de24ea3bc684b19ba86e75d.setIcon%28beautify_icon_c7e45ca22f0e41528418ae55337b6741%29%3B%0A%20%20%20%20%20%20%20%20%0A%20%20%20%20%0A%20%20%20%20%20%20%20%20%20%20%20%20ant_path_0bb6cca3d8ed4d71b9b9f3bbc2c780ae%20%3D%20L.polyline.antPath%28%0A%20%20%20%20%20%20%20%20%20%20%20%20%20%20%5B%5B38.252777800000004%2C%20114.18694439999999%5D%2C%20%5B41.8666667%2C%20123.66666670000001%5D%2C%20%5B43.6%2C%20124.7166667%5D%2C%20%5B31.7777778%2C%20119.16944439999999%5D%2C%20%5B33.785%2C%20113.1377778%5D%2C%20%5B32.1655556%2C%20113.3983333%5D%2C%20%5B32.3922222%2C%20110.19027779999999%5D%2C%20%5B33.42972219999999%2C%20109.9244444%5D%2C%20%5B35.7725%2C%20103.1575%5D%2C%20%5B39.3991667%2C%20111.76388890000001%5D%2C%20%5B29.1988889%2C%20120.1947222%5D%2C%20%5B22.516388900000003%2C%20114.5394444%5D%2C%20%5B24.983333299999998%2C%20107.9833333%5D%2C%20%5B42.6788889%2C%20119.6763889%5D%2C%20%5B42.755%2C%20119.6841667%5D%2C%20%5B29.5847222%2C%20105.23%5D%2C%20%5B28.6830556%2C%20107.49%5D%2C%20%5B36.2044444%2C%20116.5913889%5D%2C%20%5B30.735%2C%20121.0736111%5D%2C%20%5B30.3033333%2C%20121.9597222%5D%2C%20%5B28.4158333%2C%20121.3741667%5D%2C%20%5B24.8775%2C%20116.5902778%5D%2C%20%5B23.194444400000002%2C%20109.57611109999999%5D%2C%20%5B27.7986111%2C%20119.5211111%5D%2C%20%5B24.8977778%2C%20117.34222220000001%5D%2C%20%5B23.670833299999998%2C%20112.88083329999999%5D%2C%20%5B23.7%2C%20109.2833333%5D%2C%20%5B35.8333333%2C%20111.215%5D%2C%20%5B38.673333299999996%2C%20117.3563889%5D%2C%20%5B33.05%2C%20116.8166667%5D%2C%20%5B38.252777800000004%2C%20114.18694439999999%5D%5D%2C%0A%20%20%20%20%20%20%20%20%20%20%20%20%20%20%7B%22bubblingMouseEvents%22%3A%20true%2C%20%22color%22%3A%20%22%230000FF%22%2C%20%22dashArray%22%3A%20%5B10%2C%2020%5D%2C%20%22dashOffset%22%3A%20null%2C%20%22delay%22%3A%20400%2C%20%22fill%22%3A%20false%2C%20%22fillColor%22%3A%20%22%233388ff%22%2C%20%22fillOpacity%22%3A%200.2%2C%20%22fillRule%22%3A%20%22evenodd%22%2C%20%22hardwareAcceleration%22%3A%20false%2C%20%22lineCap%22%3A%20%22round%22%2C%20%22lineJoin%22%3A%20%22round%22%2C%20%22noClip%22%3A%20false%2C%20%22opacity%22%3A%200.5%2C%20%22paused%22%3A%20false%2C%20%22pulseColor%22%3A%20%22%23FFFFFF%22%2C%20%22reverse%22%3A%20false%2C%20%22smoothFactor%22%3A%201.0%2C%20%22stroke%22%3A%20true%2C%20%22weight%22%3A%205%7D%0A%20%20%20%20%20%20%20%20%29.addTo%28map_626b8ef4df324cb9ad29a0834e809070%29%3B%0A%20%20%20%20%20%20%20%20%0A%3C/script%3E onload=\"this.contentDocument.open();this.contentDocument.write(    decodeURIComponent(this.getAttribute('data-html')));this.contentDocument.close();\" allowfullscreen webkitallowfullscreen mozallowfullscreen></iframe></div></div>"
      ],
      "text/plain": [
       "<folium.folium.Map at 0x7ff203ab3e48>"
      ]
     },
     "execution_count": 21,
     "metadata": {},
     "output_type": "execute_result"
    }
   ],
   "source": [
    "# visualizar solución y guardar mapa como html\n",
    "map_route = ac.plot_rout_map(coord_df, colony_mw.best_route, path_type='ants', \n",
    "                             save=True, save_as='map_aco_route')\n",
    "map_route"
   ]
  },
  {
   "cell_type": "code",
   "execution_count": 22,
   "id": "blind-netherlands",
   "metadata": {
    "tags": [
     "block:get_sln_path",
     "prev:solve_tsp"
    ]
   },
   "outputs": [],
   "source": [
    "# extraer mejor ruta\n",
    "sln_r = colony_mw.best_route"
   ]
  },
  {
   "cell_type": "code",
   "execution_count": 23,
   "id": "precious-museum",
   "metadata": {
    "tags": [
     "block:get_sln_dist",
     "prev:solve_tsp"
    ]
   },
   "outputs": [],
   "source": [
    "# extraer mejor distancia\n",
    "sln_d = colony_mw.best_dist"
   ]
  },
  {
   "cell_type": "code",
   "execution_count": 24,
   "id": "standing-failure",
   "metadata": {
    "tags": [
     "block:merge_sln",
     "prev:get_sln_path",
     "prev:get_sln_dist"
    ]
   },
   "outputs": [],
   "source": [
    "# diccionario con soluciones\n",
    "sln_dic = {'route': sln_r, 'distance': float(sln_d)}"
   ]
  },
  {
   "cell_type": "code",
   "execution_count": 25,
   "id": "economic-technology",
   "metadata": {
    "tags": [
     "block:save_sln_disk",
     "prev:merge_sln"
    ]
   },
   "outputs": [],
   "source": [
    "# guardar solución en disco\n",
    "with open(\"aco_sln.json\", \"w\") as outfile: \n",
    "    json.dump(sln_dic, outfile)\n",
    "outfile.close()"
   ]
  },
  {
   "cell_type": "markdown",
   "id": "cognitive-verification",
   "metadata": {
    "tags": []
   },
   "source": [
    "## Comparación de tiempos con la antigua implementación"
   ]
  },
  {
   "cell_type": "code",
   "execution_count": 26,
   "id": "charitable-snake",
   "metadata": {
    "tags": [
     "block:inst_colony_old",
     "prev:load_bst_hp"
    ]
   },
   "outputs": [],
   "source": [
    "# instanciar colony_multiw con mejores hp\n",
    "colony_old = ac.colony(G, \n",
    "                       init_node=0,  \n",
    "                       verbose=True, k_verbose=10,\n",
    "                       **best_params)"
   ]
  },
  {
   "cell_type": "code",
   "execution_count": 28,
   "id": "latest-nation",
   "metadata": {
    "tags": [
     "block:solve_ts_old",
     "prev:inst_colony_old"
    ]
   },
   "outputs": [
    {
     "name": "stdout",
     "output_type": "stream",
     "text": [
      "iter: 0 / 10 - dist: 196.66\n",
      "\n",
      "\n",
      "------------------------------\n",
      "Resumen:\n",
      "\tNro. de hormigas: 703\n",
      "\tIteraciones: 10\n",
      "\tDistancia: 196.65594273569621\n",
      "\tNodo inicial: 0\n",
      "\tRuta: [0, 15, 10, 27, 25, 24, 19, 20, 4, 17, 21, 3, 13, 9, 1, 22, 8, 5, 7, 14, 29, 2, 12, 16, 26, 23, 6, 11, 28, 18, 0]\n",
      "------------------------------\n"
     ]
    }
   ],
   "source": [
    "# solucionar el problema tsp con aco old\n",
    "start_time = time.time()\n",
    "colony_old.solve_tsp()\n",
    "end_time = time.time()\n",
    "\n",
    "secs = end_time-start_time\n",
    "print(\"La solucion sin pool tomó\", secs, \"segundos.\" )\n",
    "print(f\"Distancia {colony_old.best_dist} kms.\")"
   ]
  },
  {
   "cell_type": "markdown",
   "id": "smooth-lecture",
   "metadata": {
    "tags": []
   },
   "source": [
    "## Referencias\n",
    "- Kale: https://github.com/kubeflow-kale/kale\n",
    "- Kubeflow: https://www.kubeflow.org/\n",
    "- National Travelling Salesman problmes: https://www.math.uwaterloo.ca/tsp/world/countries.html\n"
   ]
  }
 ],
 "metadata": {
  "kernelspec": {
   "display_name": "Python 3",
   "language": "python",
   "name": "python3"
  },
  "kubeflow_notebook": {
   "autosnapshot": false,
   "docker_image": "santibatte/ant_colony_jupyter:0.1",
   "experiment": {
    "id": "new",
    "name": "proyecto-final"
   },
   "experiment_name": "proyecto-final",
   "katib_metadata": {
    "algorithm": {
     "algorithmName": "grid"
    },
    "maxFailedTrialCount": 3,
    "maxTrialCount": 12,
    "objective": {
     "objectiveMetricName": "",
     "type": "minimize"
    },
    "parallelTrialCount": 3,
    "parameters": []
   },
   "katib_run": false,
   "pipeline_description": "Resuelve TSP para N ciudades de China",
   "pipeline_name": "china-proyecto",
   "snapshot_volumes": false,
   "steps_defaults": [],
   "volume_access_mode": "rom",
   "volumes": [
    {
     "annotations": [],
     "mount_point": "/shared_volume",
     "name": "hostpath-pvc",
     "size": 1,
     "size_type": "Gi",
     "snapshot": false,
     "snapshot_name": "",
     "type": "pvc"
    }
   ]
  },
  "language_info": {
   "codemirror_mode": {
    "name": "ipython",
    "version": 3
   },
   "file_extension": ".py",
   "mimetype": "text/x-python",
   "name": "python",
   "nbconvert_exporter": "python",
   "pygments_lexer": "ipython3",
   "version": "3.6.9"
  }
 },
 "nbformat": 4,
 "nbformat_minor": 5
}
